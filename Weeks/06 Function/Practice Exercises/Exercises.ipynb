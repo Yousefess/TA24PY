{
 "cells": [
  {
   "cell_type": "markdown",
   "metadata": {},
   "source": [
    "## [Practice Exercise](#)"
   ]
  },
  {
   "cell_type": "markdown",
   "metadata": {},
   "source": [
    "In this exercise, you will apply what you've learned about Python functions from this lecture. By defining and calling your own functions, you will practice creating modular and reusable code blocks. Functions are a fundamental aspect of Python programming, helping you adhere to the DRY (Don't Repeat Yourself) principle.\n"
   ]
  },
  {
   "cell_type": "markdown",
   "metadata": {},
   "source": [
    "**Tasks:**\n",
    "\n",
    "1. **Defining and Calling a Simple Function**:\n",
    "   Define a function named `greet` that prints \"Hello, World!\" to the console. Then, call this function to see the greeting printed out.\n",
    "\n",
    "2. **Creating a Function with Parameters**:\n",
    "   Define a function called `personalize_greeting` that takes a name as a parameter and prints a personalized greeting, \"Hello, [name]!\". Replace `[name]` with the actual name provided. Call this function with your name as an argument.\n",
    "\n",
    "3. **Calculating the Area of a Circle**:\n",
    "   Define a function named `circle_area` that takes the radius of a circle as a parameter and returns the area of the circle. Use the formula `area = π * radius^2` for the calculation (`π` can be approximated as `3.14159`). Call this function with a radius of `5` and print the result.\n",
    "\n",
    "4. **Using Multiple Parameters**:\n",
    "   Define a function called `add_numbers` that takes two parameters and returns their sum. Call this function with two numbers of your choice and print the result.\n",
    "\n",
    "5. **No Return Statement**:\n",
    "   Define a function called `print_menu` that prints a list of food items to the console but does not return anything. Call this function to display the menu.\n",
    "\n",
    "6. **Bonus: A Function that Returns Multiple Values**:\n",
    "   Define a function called `min_max` that takes a list of numbers as a parameter and returns both the minimum and maximum numbers in the list. Call this function with a list of numbers and unpack the results into two variables, then print those variables.\n"
   ]
  },
  {
   "cell_type": "markdown",
   "metadata": {},
   "source": [
    "**Expected Output:**\n",
    "```bash\n",
    "Hello, World!\n",
    "Hello, Alice!\n",
    "The area of the circle with radius 5 is 78.53975.\n",
    "The sum of 3 and 7 is 10.\n",
    "Menu: Pizza, Salad, Soup\n",
    "Minimum: 2, Maximum: 10\n",
    "```\n"
   ]
  },
  {
   "cell_type": "markdown",
   "metadata": {},
   "source": [
    "These tasks will reinforce the concepts covered in the lecture and help you become more familiar with defining and using functions in Python. Remember to use descriptive names for your functions and follow Python's naming conventions. Good luck, and enjoy writing your functions!"
   ]
  },
  {
   "cell_type": "markdown",
   "metadata": {},
   "source": [
    "### [Solution](#)"
   ]
  },
  {
   "cell_type": "markdown",
   "metadata": {},
   "source": [
    "Here are the solutions for each task in the exercise, demonstrating how to define and use functions in Python:"
   ]
  },
  {
   "cell_type": "code",
   "execution_count": null,
   "metadata": {},
   "outputs": [],
   "source": [
    "# Task 1: Defining and Calling a Simple Function\n",
    "def greet():\n",
    "    print(\"Hello, World!\")"
   ]
  },
  {
   "cell_type": "code",
   "execution_count": null,
   "metadata": {},
   "outputs": [
    {
     "name": "stdout",
     "output_type": "stream",
     "text": [
      "Hello, World!\n"
     ]
    }
   ],
   "source": [
    "# Call the function\n",
    "greet()"
   ]
  },
  {
   "cell_type": "code",
   "execution_count": null,
   "metadata": {},
   "outputs": [],
   "source": [
    "# Task 2: Creating a Function with Parameters\n",
    "def personalize_greeting(name):\n",
    "    print(f\"Hello, {name}!\")"
   ]
  },
  {
   "cell_type": "code",
   "execution_count": null,
   "metadata": {},
   "outputs": [
    {
     "name": "stdout",
     "output_type": "stream",
     "text": [
      "Hello, Alice!\n"
     ]
    }
   ],
   "source": [
    "# Call the function with your name\n",
    "personalize_greeting(\"Alice\")"
   ]
  },
  {
   "cell_type": "code",
   "execution_count": null,
   "metadata": {},
   "outputs": [],
   "source": [
    "# Task 3: Calculating the Area of a Circle\n",
    "def circle_area(radius):\n",
    "    pi = 3.14159\n",
    "    return pi * radius ** 2"
   ]
  },
  {
   "cell_type": "code",
   "execution_count": null,
   "metadata": {},
   "outputs": [
    {
     "name": "stdout",
     "output_type": "stream",
     "text": [
      "The area of the circle with radius 5 is 78.53975.\n"
     ]
    }
   ],
   "source": [
    "# Call the function with radius 5 and print the result\n",
    "area = circle_area(5)\n",
    "print(f\"The area of the circle with radius 5 is {area}.\")"
   ]
  },
  {
   "cell_type": "code",
   "execution_count": null,
   "metadata": {},
   "outputs": [],
   "source": [
    "# Task 4: Using Multiple Parameters\n",
    "def add_numbers(num1, num2):\n",
    "    return num1 + num2"
   ]
  },
  {
   "cell_type": "code",
   "execution_count": null,
   "metadata": {},
   "outputs": [
    {
     "name": "stdout",
     "output_type": "stream",
     "text": [
      "The sum of 3 and 7 is 10.\n"
     ]
    }
   ],
   "source": [
    "# Call the function with two numbers and print the result\n",
    "sum_of_numbers = add_numbers(3, 7)\n",
    "print(f\"The sum of 3 and 7 is {sum_of_numbers}.\")"
   ]
  },
  {
   "cell_type": "code",
   "execution_count": null,
   "metadata": {},
   "outputs": [],
   "source": [
    "# Task 5: No Return Statement\n",
    "def print_menu():\n",
    "    menu_items = [\"Pizza\", \"Salad\", \"Soup\"]\n",
    "    print(\"Menu:\", \", \".join(menu_items))"
   ]
  },
  {
   "cell_type": "code",
   "execution_count": null,
   "metadata": {},
   "outputs": [
    {
     "name": "stdout",
     "output_type": "stream",
     "text": [
      "Menu: Pizza, Salad, Soup\n"
     ]
    }
   ],
   "source": [
    "# Call the function to display the menu\n",
    "print_menu()"
   ]
  },
  {
   "cell_type": "code",
   "execution_count": null,
   "metadata": {},
   "outputs": [],
   "source": [
    "# Bonus: A Function that Returns Multiple Values\n",
    "def min_max(numbers):\n",
    "    return min(numbers), max(numbers)"
   ]
  },
  {
   "cell_type": "code",
   "execution_count": null,
   "metadata": {},
   "outputs": [
    {
     "name": "stdout",
     "output_type": "stream",
     "text": [
      "Minimum: 2, Maximum: 11\n"
     ]
    }
   ],
   "source": [
    "# Call the function with a list of numbers and unpack the results\n",
    "min_number, max_number = min_max([2, 3, 5, 7, 11, 2, 10])\n",
    "print(f\"Minimum: {min_number}, Maximum: {max_number}\")"
   ]
  },
  {
   "cell_type": "markdown",
   "metadata": {},
   "source": [
    "## [Practice Exercise: A Day at the Zoo](#)"
   ]
  },
  {
   "cell_type": "markdown",
   "metadata": {},
   "source": [
    "You are planning a visit to the local zoo with a group of students. The zoo has several sections for different kinds of animals, and each section has feeding times, special shows, and educational talks. To maximize the visit, you decide to write a Python program that helps organize the day's activities based on the group's preferences.\n"
   ]
  },
  {
   "cell_type": "markdown",
   "metadata": {},
   "source": [
    "**Tasks:**\n",
    "\n",
    "1. Write a function named `schedule_visit` that takes three parameters: `section` (the section of the zoo to visit, e.g., \"Reptiles\", \"Birds\"), `time` (the time you plan to visit that section), and `activity` with a default value of \"Feeding\". The function should print a message summarizing the visit plan for that section.\n",
    "\n",
    "2. Call the `schedule_visit` function for the \"Reptiles\" section at \"10:00 AM\" without specifying an activity to use the default value.\n",
    "\n",
    "3. Call the `schedule_visit` function for the \"Birds\" section at \"1:00 PM\" with the activity \"Educational Talk\".\n",
    "\n",
    "4. Write a function named `add_special_request` that takes two parameters: `section` and `request` with a default value of \"None\". This function should print a message indicating any special requests for the visit to that section. If no special request is made, the function should print that no special requests have been made for this section.\n",
    "\n",
    "5. Call the `add_special_request` function for the \"Reptiles\" section without specifying a request.\n",
    "\n",
    "6. Call the `add_special_request` function for the \"Mammals\" section with a special request of \"Wheelchair Access\".\n"
   ]
  },
  {
   "cell_type": "markdown",
   "metadata": {},
   "source": [
    "**Expected Output:**\n",
    "\n",
    "```sh\n",
    "Planning to visit Reptiles section at 10:00 AM for a Feeding activity.\n",
    "Planning to visit Birds section at 1:00 PM for an Educational Talk activity.\n",
    "No special requests have been made for the Reptiles section.\n",
    "Special request for the Mammals section: Wheelchair Access.\n",
    "```\n"
   ]
  },
  {
   "cell_type": "markdown",
   "metadata": {},
   "source": [
    "This exercise engages you in applying the concepts of default parameters and function calls with both positional and keyword arguments. It is designed to reflect a practical scenario where such programming techniques can organize information efficiently and flexibly."
   ]
  },
  {
   "cell_type": "markdown",
   "metadata": {},
   "source": [
    "### [Solution](#)"
   ]
  },
  {
   "cell_type": "markdown",
   "metadata": {},
   "source": [
    "Here's a solution to the exercise \"A Day at the Zoo\":"
   ]
  },
  {
   "cell_type": "code",
   "execution_count": null,
   "metadata": {},
   "outputs": [],
   "source": [
    "# Task 1: Function to schedule a visit to a zoo section\n",
    "def schedule_visit(section, time, activity='Feeding'):\n",
    "    print(f\"Planning to visit {section} section at {time} for a {activity} activity.\")"
   ]
  },
  {
   "cell_type": "code",
   "execution_count": null,
   "metadata": {},
   "outputs": [
    {
     "name": "stdout",
     "output_type": "stream",
     "text": [
      "Planning to visit Reptiles section at 10:00 AM for a Feeding activity.\n"
     ]
    }
   ],
   "source": [
    "# Task 2: Schedule visit to Reptiles section using the default activity\n",
    "schedule_visit('Reptiles', '10:00 AM')"
   ]
  },
  {
   "cell_type": "code",
   "execution_count": null,
   "metadata": {},
   "outputs": [
    {
     "name": "stdout",
     "output_type": "stream",
     "text": [
      "Planning to visit Birds section at 1:00 PM for a Educational Talk activity.\n"
     ]
    }
   ],
   "source": [
    "# Task 3: Schedule visit to Birds section with a specified activity\n",
    "schedule_visit('Birds', '1:00 PM', 'Educational Talk')"
   ]
  },
  {
   "cell_type": "code",
   "execution_count": null,
   "metadata": {},
   "outputs": [],
   "source": [
    "# Task 4: Function to add a special request for a zoo section visit\n",
    "def add_special_request(section, request=None):\n",
    "    if request:\n",
    "        print(f\"Special request for the {section} section: {request}.\")\n",
    "    else:\n",
    "        print(f\"No special requests have been made for the {section} section.\")"
   ]
  },
  {
   "cell_type": "code",
   "execution_count": null,
   "metadata": {},
   "outputs": [
    {
     "name": "stdout",
     "output_type": "stream",
     "text": [
      "No special requests have been made for the Reptiles section.\n"
     ]
    }
   ],
   "source": [
    "# Task 5: Add no special request for the Reptiles section\n",
    "add_special_request('Reptiles')"
   ]
  },
  {
   "cell_type": "code",
   "execution_count": null,
   "metadata": {},
   "outputs": [
    {
     "name": "stdout",
     "output_type": "stream",
     "text": [
      "Special request for the Mammals section: Wheelchair Access.\n"
     ]
    }
   ],
   "source": [
    "# Task 6: Add a special request for the Mammals section\n",
    "add_special_request('Mammals', 'Wheelchair Access')"
   ]
  },
  {
   "cell_type": "markdown",
   "metadata": {},
   "source": [
    "**Explanation:**\n",
    "\n",
    "- The `schedule_visit` function accepts three parameters. The `section` and `time` need to be provided, while `activity` defaults to \"Feeding\" if not specified. This design allows for flexibility in planning activities without the need to specify common activities every time.\n",
    "  \n",
    "- The `add_special_request` function is designed to handle special requests for each zoo section visit. If no specific request is made (using the default parameter value \"None\"), it informs that no special requests have been made for that section. This approach makes it convenient to handle situations where additional accommodations are not necessary.\n"
   ]
  },
  {
   "cell_type": "markdown",
   "metadata": {},
   "source": [
    "## <a id='toc4_'></a>[Practice Exercise: Temperature Conversion Tool with Data Validation](#toc0_)"
   ]
  },
  {
   "cell_type": "markdown",
   "metadata": {},
   "source": [
    "You're tasked with improving your temperature conversion tool. Your objective is to add input validation to each function, ensuring that they handle incorrect or unexpected input gracefully by printing an error message and returning `None`. This added robustness will make your tool more user-friendly and reliable.\n"
   ]
  },
  {
   "cell_type": "markdown",
   "metadata": {},
   "source": [
    "**Tasks:**\n",
    "\n",
    "1. Update the function `celsius_to_fahrenheit` to check if the input is either an integer or a float. If the input is not a number, print an error message and return `None`. Otherwise, calculate and return the equivalent temperature in Fahrenheit using the formula: Fahrenheit = (Celsius * 9/5) + 32.\n",
    "\n",
    "2. Revise the function `fahrenheit_to_celsius` in the same manner to validate the input. If the input is valid, use the formula: Celsius = (Fahrenheit - 32) * 5/9 to calculate and return the equivalent temperature in Celsius.\n",
    "\n",
    "3. Modify the function `water_state` to ensure the input is a number (either an integer or a float). The function should return \"Solid\" if the temperature is below 0, \"Liquid\" if the temperature is between 0 and 100 inclusive, and \"Gas\" if the temperature is above 100. For non-numeric inputs, print an error message and return `None`.\n",
    "\n",
    "4. Call `celsius_to_fahrenheit` with a valid value (e.g., 100) and an invalid value (e.g., \"hot\") and print the results.\n",
    "\n",
    "5. Call `fahrenheit_to_celsius` with a valid value (e.g., 32) and an invalid value (e.g., \"cold\") and print the results.\n",
    "\n",
    "6. Call `water_state` with a valid value (e.g., 25) and an invalid value (e.g., \"warm\") and print the results.\n"
   ]
  },
  {
   "cell_type": "markdown",
   "metadata": {},
   "source": [
    "**Expected Output:**\n",
    "\n",
    "```sh\n",
    "100 Celsius is 212.0 Fahrenheit.\n",
    "Error: Invalid input. Please enter a numeric value.\n",
    "32 Fahrenheit is 0.0 Celsius.\n",
    "Error: Invalid input. Please enter a numeric value.\n",
    "At 25 Celsius, water is in a Liquid state.\n",
    "Error: Invalid input. Please enter a numeric value.\n",
    "```\n"
   ]
  },
  {
   "cell_type": "markdown",
   "metadata": {},
   "source": [
    "**Hint:**\n",
    "- To check if a value is a number, you can use the condition `(type(value) == int) or (type(value) == float)`.\n",
    "- Ensure to display a user-friendly error message whenever you encounter invalid input, and then return `None`.\n"
   ]
  },
  {
   "cell_type": "markdown",
   "metadata": {},
   "source": [
    "This exercise encourages you to practice implementing functions with return values while also focusing on input validation, making your functions more robust and enhancing the user experience by preventing and handling errors gracefully."
   ]
  },
  {
   "cell_type": "markdown",
   "metadata": {},
   "source": [
    "### <a id='toc4_1_'></a>[Solution](#toc0_)"
   ]
  },
  {
   "cell_type": "markdown",
   "metadata": {},
   "source": [
    "Below is a solution for the Temperature Conversion Tool with Data Validation exercise. This solution includes the implementation of input validation as described in the tasks."
   ]
  },
  {
   "cell_type": "code",
   "execution_count": null,
   "metadata": {},
   "outputs": [],
   "source": [
    "# Task 1: Function to convert Celsius to Fahrenheit with data validation\n",
    "def celsius_to_fahrenheit(temp):\n",
    "    # Check for invalid input first\n",
    "    if not (type(temp) == int or type(temp) == float):\n",
    "        print(\"Error: Invalid input. Please enter a numeric value.\")\n",
    "        return None\n",
    "    return (temp * 9/5) + 32"
   ]
  },
  {
   "cell_type": "code",
   "execution_count": null,
   "metadata": {},
   "outputs": [],
   "source": [
    "# Task 2: Function to convert Fahrenheit to Celsius with data validation\n",
    "def fahrenheit_to_celsius(temp):\n",
    "    # Check for invalid input first\n",
    "    if not (type(temp) == int or type(temp) == float):\n",
    "        print(\"Error: Invalid input. Please enter a numeric value.\")\n",
    "        return None\n",
    "    return (temp - 32) * 5/9"
   ]
  },
  {
   "cell_type": "code",
   "execution_count": null,
   "metadata": {},
   "outputs": [],
   "source": [
    "# Task 3: Function to determine the state of water based on temperature in Celsius with data validation\n",
    "def water_state(temp):\n",
    "    # Check for invalid input first\n",
    "    if not (type(temp) == int or type(temp) == float):\n",
    "        print(\"Error: Invalid input. Please enter a numeric value.\")\n",
    "        return None\n",
    "    if temp < 0:\n",
    "        return \"Solid\"\n",
    "    elif temp <= 100:\n",
    "        return \"Liquid\"\n",
    "    else:\n",
    "        return \"Gas\""
   ]
  },
  {
   "cell_type": "code",
   "execution_count": null,
   "metadata": {},
   "outputs": [
    {
     "name": "stdout",
     "output_type": "stream",
     "text": [
      "100 Celsius is 212.0 Fahrenheit.\n"
     ]
    }
   ],
   "source": [
    "# Task 4: Valid input for celsius_to_fahrenheit\n",
    "print(f\"100 Celsius is {celsius_to_fahrenheit(100)} Fahrenheit.\")"
   ]
  },
  {
   "cell_type": "code",
   "execution_count": null,
   "metadata": {},
   "outputs": [
    {
     "name": "stdout",
     "output_type": "stream",
     "text": [
      "Error: Invalid input. Please enter a numeric value.\n"
     ]
    }
   ],
   "source": [
    "# Invalid input for celsius_to_fahrenheit\n",
    "celsius_to_fahrenheit(\"hot\")"
   ]
  },
  {
   "cell_type": "code",
   "execution_count": null,
   "metadata": {},
   "outputs": [
    {
     "name": "stdout",
     "output_type": "stream",
     "text": [
      "32 Fahrenheit is 0.0 Celsius.\n"
     ]
    }
   ],
   "source": [
    "# Task 5: Valid input for fahrenheit_to_celsius\n",
    "print(f\"32 Fahrenheit is {fahrenheit_to_celsius(32)} Celsius.\")"
   ]
  },
  {
   "cell_type": "code",
   "execution_count": null,
   "metadata": {},
   "outputs": [
    {
     "name": "stdout",
     "output_type": "stream",
     "text": [
      "Error: Invalid input. Please enter a numeric value.\n"
     ]
    }
   ],
   "source": [
    "# Invalid input for fahrenheit_to_celsius\n",
    "fahrenheit_to_celsius(\"cold\")"
   ]
  },
  {
   "cell_type": "code",
   "execution_count": null,
   "metadata": {},
   "outputs": [
    {
     "name": "stdout",
     "output_type": "stream",
     "text": [
      "At 25 Celsius, water is in a Liquid state.\n"
     ]
    }
   ],
   "source": [
    "# Task 6: Valid input for water_state\n",
    "print(f\"At 25 Celsius, water is in a {water_state(25)} state.\")"
   ]
  },
  {
   "cell_type": "code",
   "execution_count": null,
   "metadata": {},
   "outputs": [
    {
     "name": "stdout",
     "output_type": "stream",
     "text": [
      "Error: Invalid input. Please enter a numeric value.\n"
     ]
    }
   ],
   "source": [
    "# Invalid input for water_state\n",
    "water_state(\"warm\")"
   ]
  }
 ],
 "metadata": {
  "language_info": {
   "name": "python"
  }
 },
 "nbformat": 4,
 "nbformat_minor": 2
}
