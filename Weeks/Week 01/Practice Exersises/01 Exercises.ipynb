{
 "cells": [
  {
   "cell_type": "markdown",
   "metadata": {},
   "source": [
    "## [Practice Exercises](#)"
   ]
  },
  {
   "cell_type": "markdown",
   "metadata": {},
   "source": [
    "Here are some exercises to help you practice what you've learned about variables, constants, and reserved keywords in Python:"
   ]
  },
  {
   "cell_type": "markdown",
   "metadata": {},
   "source": [
    "1. **Simple Assignment**\n",
    "   - Create a variable named `fruit` and assign it the value \"apple\".\n",
    "   - Print the value of `fruit`.\n",
    "   - Change the value of `fruit` to \"banana\" and print it again."
   ]
  },
  {
   "cell_type": "markdown",
   "metadata": {},
   "source": [
    "2. **Using Constants**\n",
    "   - Make a constant named `MAX_SCORE` and set its value to 100.\n",
    "   - Try to change the value of `MAX_SCORE` to 90 and see what happens. Can you change it? Why?"
   ]
  },
  {
   "cell_type": "markdown",
   "metadata": {},
   "source": [
    "3. **Variable Names**\n",
    "   - Create three variables: `myAge`, `my_name`, and `MyHeight`.\n",
    "   - Assign any values to these variables and print them."
   ]
  },
  {
   "cell_type": "markdown",
   "metadata": {},
   "source": [
    "4. **Reserved Keywords**\n",
    "   - Try to create a variable with the name `while`. What happens?\n",
    "   - Rename the variable to something that's not a reserved keyword and print its value."
   ]
  },
  {
   "cell_type": "markdown",
   "metadata": {},
   "source": [
    "5. **Multiple Assignments**\n",
    "   - Assign values to three variables `x`, `y`, and `z` in a single line.\n",
    "   - Print the values of `x`, `y`, and `z`."
   ]
  },
  {
   "cell_type": "markdown",
   "metadata": {},
   "source": []
  }
 ],
 "metadata": {
  "language_info": {
   "name": "python"
  }
 },
 "nbformat": 4,
 "nbformat_minor": 2
}
