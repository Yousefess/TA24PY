{
 "cells": [
  {
   "cell_type": "markdown",
   "id": "3438f0b7",
   "metadata": {},
   "source": [
    "# Basic Data Types"
   ]
  },
  {
   "cell_type": "markdown",
   "id": "7ee45f5f-c334-43ac-b2e5-b3b6df89af2f",
   "metadata": {},
   "source": [
    "## Integer"
   ]
  },
  {
   "cell_type": "code",
   "execution_count": 1,
   "id": "823c9576-6230-4275-afeb-ee7a3db8295b",
   "metadata": {},
   "outputs": [
    {
     "data": {
      "text/plain": [
       "1"
      ]
     },
     "execution_count": 1,
     "metadata": {},
     "output_type": "execute_result"
    }
   ],
   "source": [
    "1"
   ]
  },
  {
   "cell_type": "code",
   "execution_count": 2,
   "id": "a7b0f39c-1da8-47c8-ba8a-fbda4ec27ffa",
   "metadata": {},
   "outputs": [
    {
     "data": {
      "text/plain": [
       "-2"
      ]
     },
     "execution_count": 2,
     "metadata": {},
     "output_type": "execute_result"
    }
   ],
   "source": [
    "-2"
   ]
  },
  {
   "cell_type": "code",
   "execution_count": 3,
   "id": "ba154f60-f87d-4a1c-9049-8b0af4a399ca",
   "metadata": {},
   "outputs": [
    {
     "data": {
      "text/plain": [
       "10"
      ]
     },
     "execution_count": 3,
     "metadata": {},
     "output_type": "execute_result"
    }
   ],
   "source": [
    "10"
   ]
  },
  {
   "cell_type": "code",
   "execution_count": 4,
   "id": "7aa32881-9ba1-48ed-a0e3-e8eeb19e554d",
   "metadata": {},
   "outputs": [
    {
     "data": {
      "text/plain": [
       "int"
      ]
     },
     "execution_count": 4,
     "metadata": {},
     "output_type": "execute_result"
    }
   ],
   "source": [
    "type(1) # Print out type of data"
   ]
  },
  {
   "cell_type": "code",
   "execution_count": 5,
   "id": "62dd3793-5058-4d65-a42a-a8b4dc5657a2",
   "metadata": {},
   "outputs": [
    {
     "data": {
      "text/plain": [
       "70134751307751375805715801371513878131738735819583957081338141"
      ]
     },
     "execution_count": 5,
     "metadata": {},
     "output_type": "execute_result"
    }
   ],
   "source": [
    "70134751307751375805715801371513878131738735819583957081338141 # No Real Length Limit"
   ]
  },
  {
   "cell_type": "markdown",
   "id": "7786b4dd-2481-494b-90b5-80c98b1e7f7c",
   "metadata": {},
   "source": [
    "## Float"
   ]
  },
  {
   "cell_type": "code",
   "execution_count": 6,
   "id": "37f7da9e-81f2-4131-a71d-3626a5a25056",
   "metadata": {},
   "outputs": [
    {
     "data": {
      "text/plain": [
       "3.6"
      ]
     },
     "execution_count": 6,
     "metadata": {},
     "output_type": "execute_result"
    }
   ],
   "source": [
    "3.6"
   ]
  },
  {
   "cell_type": "code",
   "execution_count": 7,
   "id": "cd804e39-6dd2-4bb0-a8e3-b1e00c78ae97",
   "metadata": {},
   "outputs": [
    {
     "data": {
      "text/plain": [
       "-7.1"
      ]
     },
     "execution_count": 7,
     "metadata": {},
     "output_type": "execute_result"
    }
   ],
   "source": [
    "-7.1"
   ]
  },
  {
   "cell_type": "code",
   "execution_count": 8,
   "id": "cb786b3d-b858-4935-99dd-ac39e55686a9",
   "metadata": {},
   "outputs": [
    {
     "data": {
      "text/plain": [
       "float"
      ]
     },
     "execution_count": 8,
     "metadata": {},
     "output_type": "execute_result"
    }
   ],
   "source": [
    "type(3.6)"
   ]
  },
  {
   "cell_type": "code",
   "execution_count": 9,
   "id": "cbb29a05-8053-4df8-842e-884fc9c83e76",
   "metadata": {},
   "outputs": [
    {
     "data": {
      "text/plain": [
       "40000000.0"
      ]
     },
     "execution_count": 9,
     "metadata": {},
     "output_type": "execute_result"
    }
   ],
   "source": [
    "4e7"
   ]
  },
  {
   "cell_type": "code",
   "execution_count": 10,
   "id": "b6d582cf-2f9b-4d26-8882-b728c4992047",
   "metadata": {},
   "outputs": [
    {
     "data": {
      "text/plain": [
       "5e-324"
      ]
     },
     "execution_count": 10,
     "metadata": {},
     "output_type": "execute_result"
    }
   ],
   "source": [
    "5e-324 # Lowest Number Python can handle it"
   ]
  },
  {
   "cell_type": "code",
   "execution_count": 11,
   "id": "484553ed",
   "metadata": {},
   "outputs": [
    {
     "data": {
      "text/plain": [
       "0.0"
      ]
     },
     "execution_count": 11,
     "metadata": {},
     "output_type": "execute_result"
    }
   ],
   "source": [
    "1e-325"
   ]
  },
  {
   "cell_type": "code",
   "execution_count": 12,
   "id": "a09597cb-5817-4c14-8a87-1b8a41071669",
   "metadata": {},
   "outputs": [
    {
     "data": {
      "text/plain": [
       "1.79e+308"
      ]
     },
     "execution_count": 12,
     "metadata": {},
     "output_type": "execute_result"
    }
   ],
   "source": [
    "1.79e308 # Biggest Number Python can handle it"
   ]
  },
  {
   "cell_type": "code",
   "execution_count": 13,
   "id": "b21c0821",
   "metadata": {},
   "outputs": [
    {
     "data": {
      "text/plain": [
       "inf"
      ]
     },
     "execution_count": 13,
     "metadata": {},
     "output_type": "execute_result"
    }
   ],
   "source": [
    "1.8e308"
   ]
  },
  {
   "cell_type": "markdown",
   "id": "7ced6007-9769-4bda-92e6-73cf81317adb",
   "metadata": {},
   "source": [
    "## Complex Number"
   ]
  },
  {
   "cell_type": "code",
   "execution_count": 14,
   "id": "ba009bd7-3a6d-4d9a-928d-7e72434bd375",
   "metadata": {},
   "outputs": [
    {
     "data": {
      "text/plain": [
       "(4+5j)"
      ]
     },
     "execution_count": 14,
     "metadata": {},
     "output_type": "execute_result"
    }
   ],
   "source": [
    "4 + 5j"
   ]
  },
  {
   "cell_type": "code",
   "execution_count": 15,
   "id": "3d9a162d-bc15-4c7a-9da6-bb6d92599d29",
   "metadata": {},
   "outputs": [
    {
     "data": {
      "text/plain": [
       "(3-7j)"
      ]
     },
     "execution_count": 15,
     "metadata": {},
     "output_type": "execute_result"
    }
   ],
   "source": [
    "3 - 7j"
   ]
  },
  {
   "cell_type": "code",
   "execution_count": 16,
   "id": "de23e68f-6e7f-4cec-ae3c-d4e3826da86b",
   "metadata": {},
   "outputs": [
    {
     "data": {
      "text/plain": [
       "7j"
      ]
     },
     "execution_count": 16,
     "metadata": {},
     "output_type": "execute_result"
    }
   ],
   "source": [
    "7j"
   ]
  },
  {
   "cell_type": "code",
   "execution_count": 17,
   "id": "e68a112f-4e71-4ffb-9013-8dfc379be041",
   "metadata": {},
   "outputs": [
    {
     "data": {
      "text/plain": [
       "complex"
      ]
     },
     "execution_count": 17,
     "metadata": {},
     "output_type": "execute_result"
    }
   ],
   "source": [
    "type(7j)"
   ]
  },
  {
   "cell_type": "markdown",
   "id": "ec30ff45-1de8-494b-af38-f1548c487588",
   "metadata": {},
   "source": [
    "## String\n",
    "\n",
    "string in python must start and end with `''` or `\"\"`."
   ]
  },
  {
   "cell_type": "code",
   "execution_count": 18,
   "id": "cda2c378-6b0b-4936-86b9-5dd7ed7d3716",
   "metadata": {},
   "outputs": [
    {
     "data": {
      "text/plain": [
       "'Hello'"
      ]
     },
     "execution_count": 18,
     "metadata": {},
     "output_type": "execute_result"
    }
   ],
   "source": [
    "\"Hello\""
   ]
  },
  {
   "cell_type": "code",
   "execution_count": 19,
   "id": "f9adca1d-1d1a-4863-9bb8-791a04a532ce",
   "metadata": {},
   "outputs": [
    {
     "data": {
      "text/plain": [
       "\"I can't\""
      ]
     },
     "execution_count": 19,
     "metadata": {},
     "output_type": "execute_result"
    }
   ],
   "source": [
    "\"I can't\""
   ]
  },
  {
   "cell_type": "code",
   "execution_count": 20,
   "id": "2d00e650-7818-4bcb-981a-182a561bbb37",
   "metadata": {},
   "outputs": [
    {
     "data": {
      "text/plain": [
       "'I am \"string\"'"
      ]
     },
     "execution_count": 20,
     "metadata": {},
     "output_type": "execute_result"
    }
   ],
   "source": [
    "'I am \"string\"'"
   ]
  },
  {
   "cell_type": "code",
   "execution_count": 21,
   "id": "dfc699a7-87a3-4675-8669-49ad54b997bf",
   "metadata": {},
   "outputs": [
    {
     "name": "stdout",
     "output_type": "stream",
     "text": [
      "I am \"string\"\n"
     ]
    }
   ],
   "source": [
    "print('I am \"string\"')"
   ]
  },
  {
   "cell_type": "markdown",
   "id": "2fd9cb5d",
   "metadata": {},
   "source": [
    "`\\` Escape"
   ]
  },
  {
   "cell_type": "code",
   "execution_count": 22,
   "id": "36b71005-ea85-4fe4-ab9a-b25de9bd615a",
   "metadata": {},
   "outputs": [
    {
     "data": {
      "text/plain": [
       "'a b c'"
      ]
     },
     "execution_count": 22,
     "metadata": {},
     "output_type": "execute_result"
    }
   ],
   "source": [
    "'a \\\n",
    "b \\\n",
    "c'"
   ]
  },
  {
   "cell_type": "markdown",
   "id": "cfb8dd42-999b-4371-8fa8-f21b8df310fc",
   "metadata": {},
   "source": [
    "- `\\t` - One TAB\n",
    "- `\\n` - Next Line"
   ]
  },
  {
   "cell_type": "code",
   "execution_count": 23,
   "id": "e0f00e6f-94a1-4693-8d8f-a3dfbd740b2f",
   "metadata": {},
   "outputs": [
    {
     "name": "stdout",
     "output_type": "stream",
     "text": [
      "I am \tstring\n"
     ]
    }
   ],
   "source": [
    "print(\"I am \\tstring\")"
   ]
  },
  {
   "cell_type": "code",
   "execution_count": 24,
   "id": "fe75c0c8-fd2f-4463-aa7a-51cce03cb131",
   "metadata": {},
   "outputs": [
    {
     "name": "stdout",
     "output_type": "stream",
     "text": [
      "I am \n",
      "string\n"
     ]
    }
   ],
   "source": [
    "print(\"I am \\nstring\")"
   ]
  },
  {
   "cell_type": "code",
   "execution_count": 25,
   "id": "a148238b-ca76-4182-91e8-5cd4954a649e",
   "metadata": {},
   "outputs": [
    {
     "data": {
      "text/plain": [
       "\"I can't\""
      ]
     },
     "execution_count": 25,
     "metadata": {},
     "output_type": "execute_result"
    }
   ],
   "source": [
    "'I can\\'t'"
   ]
  },
  {
   "cell_type": "markdown",
   "id": "a1879ffd",
   "metadata": {},
   "source": [
    "Triple Quoted"
   ]
  },
  {
   "cell_type": "code",
   "execution_count": 26,
   "id": "c1ffbc23-4363-4f81-b277-c389baebfed2",
   "metadata": {},
   "outputs": [
    {
     "name": "stdout",
     "output_type": "stream",
     "text": [
      "I am\n",
      "string\n",
      "\n",
      "hello\n",
      "hi\n",
      "\n"
     ]
    }
   ],
   "source": [
    "print(\"\"\"I am\n",
    "string\n",
    "\n",
    "hello\n",
    "hi\n",
    "\"\"\")"
   ]
  },
  {
   "cell_type": "code",
   "execution_count": 27,
   "id": "c4431546-4af6-4fe4-8aa4-e1201bfb2c09",
   "metadata": {},
   "outputs": [
    {
     "data": {
      "text/plain": [
       "str"
      ]
     },
     "execution_count": 27,
     "metadata": {},
     "output_type": "execute_result"
    }
   ],
   "source": [
    "type(\"I am\")"
   ]
  },
  {
   "cell_type": "markdown",
   "id": "eb4c258c-ce19-48f0-8e2a-8c35b4599164",
   "metadata": {},
   "source": [
    "## Boolean"
   ]
  },
  {
   "cell_type": "code",
   "execution_count": 28,
   "id": "ec73b355-1c45-4f85-adae-59eac6f3bc97",
   "metadata": {},
   "outputs": [
    {
     "data": {
      "text/plain": [
       "True"
      ]
     },
     "execution_count": 28,
     "metadata": {},
     "output_type": "execute_result"
    }
   ],
   "source": [
    "True"
   ]
  },
  {
   "cell_type": "code",
   "execution_count": 29,
   "id": "5d9e3577-9fd1-4885-8337-9b864058845b",
   "metadata": {},
   "outputs": [
    {
     "data": {
      "text/plain": [
       "False"
      ]
     },
     "execution_count": 29,
     "metadata": {},
     "output_type": "execute_result"
    }
   ],
   "source": [
    "False"
   ]
  },
  {
   "cell_type": "code",
   "execution_count": 30,
   "id": "fa173139-7758-49cf-a042-72a86dc7ce79",
   "metadata": {},
   "outputs": [
    {
     "data": {
      "text/plain": [
       "bool"
      ]
     },
     "execution_count": 30,
     "metadata": {},
     "output_type": "execute_result"
    }
   ],
   "source": [
    "type(False)"
   ]
  },
  {
   "cell_type": "markdown",
   "id": "4a952461-51cf-4f30-9ce3-098e6bd89732",
   "metadata": {},
   "source": [
    "I am `string`\n",
    "\n",
    "- hi\n",
    "+ hi"
   ]
  },
  {
   "cell_type": "markdown",
   "id": "a8cdbd58-bd95-44d2-869b-481af4fe70b1",
   "metadata": {},
   "source": [
    "Type comment in python:\n",
    "```python\n",
    "# This is comment\n",
    "```"
   ]
  },
  {
   "cell_type": "markdown",
   "id": "4404c396-be3f-433d-b717-aec59cc3d93a",
   "metadata": {},
   "source": [
    "`.ipynb` - Type of jupyter file\n",
    "\n",
    "`.py` - Type of python script file"
   ]
  },
  {
   "cell_type": "code",
   "execution_count": null,
   "id": "87910290-9010-4aec-986b-84d29f82b547",
   "metadata": {},
   "outputs": [],
   "source": []
  }
 ],
 "metadata": {
  "kernelspec": {
   "display_name": "Python 3 (ipykernel)",
   "language": "python",
   "name": "python3"
  },
  "language_info": {
   "codemirror_mode": {
    "name": "ipython",
    "version": 3
   },
   "file_extension": ".py",
   "mimetype": "text/x-python",
   "name": "python",
   "nbconvert_exporter": "python",
   "pygments_lexer": "ipython3",
   "version": "3.10.13"
  }
 },
 "nbformat": 4,
 "nbformat_minor": 5
}
