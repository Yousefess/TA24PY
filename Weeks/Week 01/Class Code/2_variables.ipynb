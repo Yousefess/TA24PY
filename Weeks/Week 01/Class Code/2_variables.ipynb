{
 "cells": [
  {
   "cell_type": "markdown",
   "id": "409fafa5",
   "metadata": {},
   "source": [
    "# Variables"
   ]
  },
  {
   "cell_type": "code",
   "execution_count": 1,
   "id": "17d2fec8-832a-4f92-804e-2c6554a2a20e",
   "metadata": {},
   "outputs": [
    {
     "data": {
      "text/plain": [
       "5"
      ]
     },
     "execution_count": 1,
     "metadata": {},
     "output_type": "execute_result"
    }
   ],
   "source": [
    "5"
   ]
  },
  {
   "cell_type": "markdown",
   "id": "560f21e6",
   "metadata": {},
   "source": [
    "## Variable Assignment"
   ]
  },
  {
   "cell_type": "code",
   "execution_count": 2,
   "id": "0ba165d6-a321-4d9d-90f7-432364987e8b",
   "metadata": {},
   "outputs": [
    {
     "data": {
      "text/plain": [
       "5"
      ]
     },
     "execution_count": 2,
     "metadata": {},
     "output_type": "execute_result"
    }
   ],
   "source": [
    "n = 5\n",
    "n"
   ]
  },
  {
   "cell_type": "code",
   "execution_count": 3,
   "id": "ac5f26b3-9d8b-4b5d-90f2-769da51bfd3e",
   "metadata": {},
   "outputs": [],
   "source": [
    "a = b = c = 6"
   ]
  },
  {
   "cell_type": "code",
   "execution_count": 4,
   "id": "24e0eed9-909b-41da-be0c-72d03c8dc40f",
   "metadata": {},
   "outputs": [
    {
     "data": {
      "text/plain": [
       "(6, 6, 6)"
      ]
     },
     "execution_count": 4,
     "metadata": {},
     "output_type": "execute_result"
    }
   ],
   "source": [
    "a, b, c"
   ]
  },
  {
   "cell_type": "code",
   "execution_count": 5,
   "id": "f79c28a9-6c7f-4caa-b0a3-3015b7cc3c56",
   "metadata": {},
   "outputs": [],
   "source": [
    "var = \"I am string\""
   ]
  },
  {
   "cell_type": "code",
   "execution_count": 6,
   "id": "1b8f2fa1-1d18-4f03-b3be-a8eda84f1cac",
   "metadata": {},
   "outputs": [
    {
     "data": {
      "text/plain": [
       "'I am string'"
      ]
     },
     "execution_count": 6,
     "metadata": {},
     "output_type": "execute_result"
    }
   ],
   "source": [
    "var"
   ]
  },
  {
   "cell_type": "code",
   "execution_count": 7,
   "id": "3f5d49ca-2948-4042-84c8-9ad1b317f5a7",
   "metadata": {},
   "outputs": [
    {
     "ename": "SyntaxError",
     "evalue": "invalid decimal literal (2206178639.py, line 1)",
     "output_type": "error",
     "traceback": [
      "\u001b[0;36m  Cell \u001b[0;32mIn[7], line 1\u001b[0;36m\u001b[0m\n\u001b[0;31m    14_var = 12 # In Python variable name can't start with number\u001b[0m\n\u001b[0m      ^\u001b[0m\n\u001b[0;31mSyntaxError\u001b[0m\u001b[0;31m:\u001b[0m invalid decimal literal\n"
     ]
    }
   ],
   "source": [
    "14_var = 12 # In Python variable name can't start with number"
   ]
  },
  {
   "cell_type": "code",
   "execution_count": null,
   "id": "e168f557-6780-4a7e-bcdc-252d2d8d2ec3",
   "metadata": {},
   "outputs": [
    {
     "data": {
      "text/plain": [
       "12"
      ]
     },
     "execution_count": 8,
     "metadata": {},
     "output_type": "execute_result"
    }
   ],
   "source": [
    "var_14 = 12\n",
    "var_14"
   ]
  },
  {
   "cell_type": "code",
   "execution_count": null,
   "id": "d884d183-357f-416b-964f-5dec01d5f1ee",
   "metadata": {},
   "outputs": [],
   "source": [
    "a = 6"
   ]
  },
  {
   "cell_type": "code",
   "execution_count": null,
   "id": "8346973b-f4db-40dc-b593-eec0a3f741ec",
   "metadata": {},
   "outputs": [
    {
     "ename": "NameError",
     "evalue": "name 'A' is not defined",
     "output_type": "error",
     "traceback": [
      "\u001b[0;31m---------------------------------------------------------------------------\u001b[0m",
      "\u001b[0;31mNameError\u001b[0m                                 Traceback (most recent call last)",
      "Cell \u001b[0;32mIn[10], line 1\u001b[0m\n\u001b[0;32m----> 1\u001b[0m \u001b[43mA\u001b[49m \u001b[38;5;66;03m# Python cares about small and capital letters\u001b[39;00m\n",
      "\u001b[0;31mNameError\u001b[0m: name 'A' is not defined"
     ]
    }
   ],
   "source": [
    "A # Python cares about small and capital letters"
   ]
  },
  {
   "cell_type": "code",
   "execution_count": null,
   "id": "a275e0fa-8d91-48a6-b42d-08877aec4724",
   "metadata": {},
   "outputs": [
    {
     "data": {
      "text/plain": [
       "6"
      ]
     },
     "execution_count": 11,
     "metadata": {},
     "output_type": "execute_result"
    }
   ],
   "source": [
    "a"
   ]
  },
  {
   "cell_type": "code",
   "execution_count": null,
   "id": "35c34d6b-ba28-48c4-a6bc-c5adf53e64ce",
   "metadata": {},
   "outputs": [
    {
     "data": {
      "text/plain": [
       "7"
      ]
     },
     "execution_count": 12,
     "metadata": {},
     "output_type": "execute_result"
    }
   ],
   "source": [
    "a = 7\n",
    "a"
   ]
  },
  {
   "cell_type": "markdown",
   "id": "b6d99cff-ed0e-4a01-aeb5-6ba054aa6c9c",
   "metadata": {},
   "source": [
    "`Camel Case`: nmberOfStudent\n",
    "\n",
    "`Pascal Case`: NumberOfStudent\n",
    "\n",
    "`Snake Case`: number_of_student"
   ]
  },
  {
   "cell_type": "code",
   "execution_count": null,
   "id": "cf8e275f-f4a0-4722-aaf8-aa330f4dad3a",
   "metadata": {},
   "outputs": [
    {
     "name": "stdout",
     "output_type": "stream",
     "text": [
      "\n",
      "Here is a list of the Python keywords.  Enter any keyword to get more help.\n",
      "\n",
      "False               class               from                or\n",
      "None                continue            global              pass\n",
      "True                def                 if                  raise\n",
      "and                 del                 import              return\n",
      "as                  elif                in                  try\n",
      "assert              else                is                  while\n",
      "async               except              lambda              with\n",
      "await               finally             nonlocal            yield\n",
      "break               for                 not                 \n",
      "\n"
     ]
    }
   ],
   "source": [
    "help(\"keywords\") # You can't use this keywords for your variable names"
   ]
  },
  {
   "cell_type": "code",
   "execution_count": null,
   "id": "95c2566d-87fc-4796-99e1-5dde89acb2c4",
   "metadata": {},
   "outputs": [
    {
     "ename": "SyntaxError",
     "evalue": "cannot assign to False (2861791734.py, line 1)",
     "output_type": "error",
     "traceback": [
      "\u001b[0;36m  Cell \u001b[0;32mIn[14], line 1\u001b[0;36m\u001b[0m\n\u001b[0;31m    False = 2\u001b[0m\n\u001b[0m    ^\u001b[0m\n\u001b[0;31mSyntaxError\u001b[0m\u001b[0;31m:\u001b[0m cannot assign to False\n"
     ]
    }
   ],
   "source": [
    "False = 2"
   ]
  },
  {
   "cell_type": "code",
   "execution_count": null,
   "id": "2f5b06c5-6b56-4161-8135-39a72d9a3b2e",
   "metadata": {},
   "outputs": [],
   "source": [
    "false = 2"
   ]
  },
  {
   "cell_type": "code",
   "execution_count": null,
   "id": "5c05d4ce-2ccc-4c16-b220-7ff9b067f55f",
   "metadata": {},
   "outputs": [],
   "source": [
    "False_2 = 2"
   ]
  },
  {
   "cell_type": "code",
   "execution_count": null,
   "id": "b6d690a3-d188-441a-b24e-98a2434f88fa",
   "metadata": {},
   "outputs": [
    {
     "data": {
      "text/plain": [
       "2"
      ]
     },
     "execution_count": 17,
     "metadata": {},
     "output_type": "execute_result"
    }
   ],
   "source": [
    "False_2"
   ]
  },
  {
   "cell_type": "markdown",
   "id": "035cc977-5805-43d5-a1c5-6236f4649123",
   "metadata": {},
   "source": [
    "For jupyter typing suggestion use this: `First word + TAB`"
   ]
  },
  {
   "cell_type": "code",
   "execution_count": null,
   "id": "01fa55bb-6346-4143-8ee2-f06317ee5883",
   "metadata": {},
   "outputs": [],
   "source": [
    "# In Python, constants are written in all capital letters and underscores separating the words\n",
    "PI = 3.14\n",
    "MAXIMIZE = 12"
   ]
  },
  {
   "cell_type": "code",
   "execution_count": null,
   "id": "ce11d0f1-94cd-4ecc-a110-292844e7072c",
   "metadata": {},
   "outputs": [
    {
     "data": {
      "text/plain": [
       "3.14"
      ]
     },
     "execution_count": 24,
     "metadata": {},
     "output_type": "execute_result"
    }
   ],
   "source": [
    "PI"
   ]
  },
  {
   "cell_type": "code",
   "execution_count": null,
   "id": "1ada2b1d-ee0b-47bd-a128-0acb72cbeb40",
   "metadata": {},
   "outputs": [
    {
     "data": {
      "text/plain": [
       "12"
      ]
     },
     "execution_count": 25,
     "metadata": {},
     "output_type": "execute_result"
    }
   ],
   "source": [
    "MAXIMIZE"
   ]
  },
  {
   "cell_type": "code",
   "execution_count": null,
   "id": "60a4dfd4-c4f7-41dd-93f0-2d647a1a239a",
   "metadata": {},
   "outputs": [],
   "source": []
  }
 ],
 "metadata": {
  "kernelspec": {
   "display_name": "Python 3 (ipykernel)",
   "language": "python",
   "name": "python3"
  },
  "language_info": {
   "codemirror_mode": {
    "name": "ipython",
    "version": 3
   },
   "file_extension": ".py",
   "mimetype": "text/x-python",
   "name": "python",
   "nbconvert_exporter": "python",
   "pygments_lexer": "ipython3",
   "version": "3.10.13"
  }
 },
 "nbformat": 4,
 "nbformat_minor": 5
}
