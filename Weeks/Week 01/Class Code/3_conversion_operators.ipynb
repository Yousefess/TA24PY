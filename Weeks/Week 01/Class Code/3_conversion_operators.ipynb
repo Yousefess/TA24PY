{
 "cells": [
  {
   "cell_type": "markdown",
   "id": "09d89824",
   "metadata": {},
   "source": [
    "# Conversion\n",
    "\n",
    "- `float()` - to float\n",
    "- `int()` - to integer\n",
    "- `str()` - to string"
   ]
  },
  {
   "cell_type": "code",
   "execution_count": 1,
   "id": "fd5c01a8-4752-4901-8f2e-d38d35b3ddee",
   "metadata": {},
   "outputs": [],
   "source": [
    "num = 12"
   ]
  },
  {
   "cell_type": "code",
   "execution_count": 2,
   "id": "98c405fb-2dc6-4072-b4b7-9a6cbe8f7f46",
   "metadata": {},
   "outputs": [
    {
     "data": {
      "text/plain": [
       "(12, int)"
      ]
     },
     "execution_count": 2,
     "metadata": {},
     "output_type": "execute_result"
    }
   ],
   "source": [
    "num, type(num)"
   ]
  },
  {
   "cell_type": "code",
   "execution_count": 3,
   "id": "2b85328a-7cde-473a-b6a0-186fce8f33f5",
   "metadata": {},
   "outputs": [
    {
     "data": {
      "text/plain": [
       "12.0"
      ]
     },
     "execution_count": 3,
     "metadata": {},
     "output_type": "execute_result"
    }
   ],
   "source": [
    "num_float = float(num)\n",
    "num_float"
   ]
  },
  {
   "cell_type": "code",
   "execution_count": 4,
   "id": "e76ee708-cc92-430f-b0d2-c61aaa5602fa",
   "metadata": {},
   "outputs": [
    {
     "data": {
      "text/plain": [
       "'12'"
      ]
     },
     "execution_count": 4,
     "metadata": {},
     "output_type": "execute_result"
    }
   ],
   "source": [
    "num_str = '12'\n",
    "num_str"
   ]
  },
  {
   "cell_type": "code",
   "execution_count": 5,
   "id": "e4718ca5-dd36-49ba-9259-3f5e7522821f",
   "metadata": {},
   "outputs": [
    {
     "ename": "TypeError",
     "evalue": "can only concatenate str (not \"int\") to str",
     "output_type": "error",
     "traceback": [
      "\u001b[0;31m---------------------------------------------------------------------------\u001b[0m",
      "\u001b[0;31mTypeError\u001b[0m                                 Traceback (most recent call last)",
      "Cell \u001b[0;32mIn[5], line 1\u001b[0m\n\u001b[0;32m----> 1\u001b[0m \u001b[43mnum_str\u001b[49m\u001b[43m \u001b[49m\u001b[38;5;241;43m+\u001b[39;49m\u001b[43m \u001b[49m\u001b[38;5;241;43m2\u001b[39;49m\n",
      "\u001b[0;31mTypeError\u001b[0m: can only concatenate str (not \"int\") to str"
     ]
    }
   ],
   "source": [
    "num_str + 2"
   ]
  },
  {
   "cell_type": "code",
   "execution_count": null,
   "id": "9ebc4d88-20e1-43ce-b9b6-b4e6f5214e31",
   "metadata": {},
   "outputs": [
    {
     "data": {
      "text/plain": [
       "14"
      ]
     },
     "execution_count": 9,
     "metadata": {},
     "output_type": "execute_result"
    }
   ],
   "source": [
    "int(num_str) + 2"
   ]
  },
  {
   "cell_type": "code",
   "execution_count": null,
   "id": "ba14933f-8a0d-4888-a5f0-fabf281d27f6",
   "metadata": {},
   "outputs": [
    {
     "data": {
      "text/plain": [
       "'1212'"
      ]
     },
     "execution_count": 11,
     "metadata": {},
     "output_type": "execute_result"
    }
   ],
   "source": [
    "\"12\" + \"12\" # String concatenate"
   ]
  },
  {
   "cell_type": "code",
   "execution_count": null,
   "id": "e2fa4345-c52e-496d-b5b5-6c27c1716be5",
   "metadata": {},
   "outputs": [
    {
     "data": {
      "text/plain": [
       "'I am string'"
      ]
     },
     "execution_count": 12,
     "metadata": {},
     "output_type": "execute_result"
    }
   ],
   "source": [
    "\"I am\" + \" string\""
   ]
  },
  {
   "cell_type": "code",
   "execution_count": null,
   "id": "90aeca6b-fd5c-4e57-b9b1-4fdfebca3905",
   "metadata": {},
   "outputs": [
    {
     "data": {
      "text/plain": [
       "str"
      ]
     },
     "execution_count": 13,
     "metadata": {},
     "output_type": "execute_result"
    }
   ],
   "source": [
    "type(str(num))"
   ]
  },
  {
   "cell_type": "markdown",
   "id": "9db06e65",
   "metadata": {},
   "source": [
    "# Arithmetic Operators\n",
    "- Addition (`+`)\n",
    "- Subtraction (`-`)\n",
    "- Multiplication (`*`)\n",
    "- Division (`/`)\n",
    "- Floor Division (`//`)\n",
    "- Modulus (`%`)\n",
    "- Exponentiation (`**`)"
   ]
  },
  {
   "cell_type": "code",
   "execution_count": null,
   "id": "ace8af58-4378-458f-b56f-230554102d3b",
   "metadata": {},
   "outputs": [
    {
     "data": {
      "text/plain": [
       "6"
      ]
     },
     "execution_count": 16,
     "metadata": {},
     "output_type": "execute_result"
    }
   ],
   "source": [
    "2 + 4"
   ]
  },
  {
   "cell_type": "code",
   "execution_count": null,
   "id": "6315931c-abca-48aa-a9ca-19a596bf56ae",
   "metadata": {},
   "outputs": [
    {
     "data": {
      "text/plain": [
       "-2"
      ]
     },
     "execution_count": 17,
     "metadata": {},
     "output_type": "execute_result"
    }
   ],
   "source": [
    "2 - 4"
   ]
  },
  {
   "cell_type": "code",
   "execution_count": null,
   "id": "56904ed8-7185-47e2-af21-3c7aeed53f6f",
   "metadata": {},
   "outputs": [
    {
     "data": {
      "text/plain": [
       "8"
      ]
     },
     "execution_count": 18,
     "metadata": {},
     "output_type": "execute_result"
    }
   ],
   "source": [
    "2 * 4"
   ]
  },
  {
   "cell_type": "code",
   "execution_count": null,
   "id": "8625d832-80d9-4ec6-b480-5871774f02c0",
   "metadata": {},
   "outputs": [
    {
     "data": {
      "text/plain": [
       "3.5"
      ]
     },
     "execution_count": 19,
     "metadata": {},
     "output_type": "execute_result"
    }
   ],
   "source": [
    "7 / 2"
   ]
  },
  {
   "cell_type": "code",
   "execution_count": null,
   "id": "e6b38852-09f5-4457-b0ff-299b43bf2a20",
   "metadata": {},
   "outputs": [
    {
     "data": {
      "text/plain": [
       "4.0"
      ]
     },
     "execution_count": 20,
     "metadata": {},
     "output_type": "execute_result"
    }
   ],
   "source": [
    "2.0 + 2"
   ]
  },
  {
   "cell_type": "code",
   "execution_count": null,
   "id": "0115c73a-b217-4513-b94e-e3211c49c45b",
   "metadata": {},
   "outputs": [
    {
     "data": {
      "text/plain": [
       "3"
      ]
     },
     "execution_count": 21,
     "metadata": {},
     "output_type": "execute_result"
    }
   ],
   "source": [
    "7 // 2"
   ]
  },
  {
   "cell_type": "code",
   "execution_count": null,
   "id": "efa9a426-1252-48e9-ac1f-32c247472be6",
   "metadata": {},
   "outputs": [
    {
     "data": {
      "text/plain": [
       "1"
      ]
     },
     "execution_count": 22,
     "metadata": {},
     "output_type": "execute_result"
    }
   ],
   "source": [
    "7 % 2"
   ]
  },
  {
   "cell_type": "code",
   "execution_count": null,
   "id": "c02fd598-5376-4c71-adf3-2483e3c04efc",
   "metadata": {},
   "outputs": [
    {
     "data": {
      "text/plain": [
       "0"
      ]
     },
     "execution_count": 23,
     "metadata": {},
     "output_type": "execute_result"
    }
   ],
   "source": [
    "100 % 2"
   ]
  },
  {
   "cell_type": "code",
   "execution_count": null,
   "id": "556d73f0-a65c-468d-a0c0-1c1792f1d1cb",
   "metadata": {},
   "outputs": [
    {
     "data": {
      "text/plain": [
       "100"
      ]
     },
     "execution_count": 24,
     "metadata": {},
     "output_type": "execute_result"
    }
   ],
   "source": [
    "10 ** 2"
   ]
  },
  {
   "cell_type": "markdown",
   "id": "0d8ff7c0",
   "metadata": {},
   "source": [
    "## Comparison Operators\n",
    "\n",
    "- Equal to (`==`)\n",
    "- Not equal to (`!=`)\n",
    "- Greater than (`>`)\n",
    "- Less than (`<`)\n",
    "- Greater than or equal to (`>=`)\n",
    "- Less than or equal to (`<=`)"
   ]
  },
  {
   "cell_type": "code",
   "execution_count": null,
   "id": "1693a85c-f3d4-4e28-aa96-566bb69dd852",
   "metadata": {},
   "outputs": [],
   "source": [
    "a = 5\n",
    "b = 5"
   ]
  },
  {
   "cell_type": "code",
   "execution_count": null,
   "id": "8d1693de-75c2-4741-88d2-9fc8e70fb40a",
   "metadata": {},
   "outputs": [
    {
     "data": {
      "text/plain": [
       "True"
      ]
     },
     "execution_count": 27,
     "metadata": {},
     "output_type": "execute_result"
    }
   ],
   "source": [
    "a == b"
   ]
  },
  {
   "cell_type": "code",
   "execution_count": null,
   "id": "79a0fec9-879f-4be4-b654-e15e880a3e41",
   "metadata": {},
   "outputs": [
    {
     "data": {
      "text/plain": [
       "False"
      ]
     },
     "execution_count": 28,
     "metadata": {},
     "output_type": "execute_result"
    }
   ],
   "source": [
    "a > b"
   ]
  },
  {
   "cell_type": "code",
   "execution_count": null,
   "id": "3a5739e2-6a3e-426d-84d4-0aae230dc86a",
   "metadata": {},
   "outputs": [
    {
     "data": {
      "text/plain": [
       "False"
      ]
     },
     "execution_count": 29,
     "metadata": {},
     "output_type": "execute_result"
    }
   ],
   "source": [
    "a < b"
   ]
  },
  {
   "cell_type": "code",
   "execution_count": null,
   "id": "d23c6707-b18a-42ae-85e6-bd149f920399",
   "metadata": {},
   "outputs": [
    {
     "data": {
      "text/plain": [
       "True"
      ]
     },
     "execution_count": 30,
     "metadata": {},
     "output_type": "execute_result"
    }
   ],
   "source": [
    "a >= b"
   ]
  },
  {
   "cell_type": "code",
   "execution_count": null,
   "id": "c5d9e02f-8c50-4eeb-a4bf-6a912509b354",
   "metadata": {},
   "outputs": [
    {
     "data": {
      "text/plain": [
       "True"
      ]
     },
     "execution_count": 31,
     "metadata": {},
     "output_type": "execute_result"
    }
   ],
   "source": [
    "a <= b"
   ]
  },
  {
   "cell_type": "code",
   "execution_count": null,
   "id": "59ad5585-8d25-43ac-afae-8aca4c8a1e3d",
   "metadata": {},
   "outputs": [
    {
     "data": {
      "text/plain": [
       "False"
      ]
     },
     "execution_count": 32,
     "metadata": {},
     "output_type": "execute_result"
    }
   ],
   "source": [
    "a != b"
   ]
  },
  {
   "cell_type": "markdown",
   "id": "e701eb60",
   "metadata": {},
   "source": [
    "## Logical Operators\n",
    "\n",
    "- AND (`and`)\n",
    "- OR (`or`)\n",
    "- NOT (`not`)"
   ]
  },
  {
   "cell_type": "code",
   "execution_count": null,
   "id": "4ac3bf15-f492-4496-ad65-75e39a249fc7",
   "metadata": {},
   "outputs": [
    {
     "data": {
      "text/plain": [
       "False"
      ]
     },
     "execution_count": 33,
     "metadata": {},
     "output_type": "execute_result"
    }
   ],
   "source": [
    "(a > 5) and (a == 5)"
   ]
  },
  {
   "cell_type": "code",
   "execution_count": null,
   "id": "a6457a86-d8e1-425b-8695-43305ba35d44",
   "metadata": {},
   "outputs": [
    {
     "data": {
      "text/plain": [
       "True"
      ]
     },
     "execution_count": 34,
     "metadata": {},
     "output_type": "execute_result"
    }
   ],
   "source": [
    "(a > 5) or (a == 5)"
   ]
  },
  {
   "cell_type": "code",
   "execution_count": null,
   "id": "2c13bee1-ee00-4c56-854c-9942fff68f62",
   "metadata": {},
   "outputs": [
    {
     "data": {
      "text/plain": [
       "False"
      ]
     },
     "execution_count": 35,
     "metadata": {},
     "output_type": "execute_result"
    }
   ],
   "source": [
    "not ((a > 5) or (a == 5))"
   ]
  },
  {
   "cell_type": "markdown",
   "id": "6b6080c5",
   "metadata": {},
   "source": [
    "## Assignment Operators\n",
    "\n",
    "- Equal (`=`)\n",
    "- Add and assign (`+=`)\n",
    "- Subtract and assign (`-=`)\n",
    "- Multiply and assign (`*=`)\n",
    "- Divide and assign (`/=`)\n",
    "- Floor divide and assign (`//=`)\n",
    "- Modulus and assign (`%=`)\n",
    "- Exponent and assign (`**=`)"
   ]
  },
  {
   "cell_type": "code",
   "execution_count": null,
   "id": "b7182ab5-5a0b-48bf-b689-fd83f07aa652",
   "metadata": {},
   "outputs": [],
   "source": [
    "a = 2"
   ]
  },
  {
   "cell_type": "code",
   "execution_count": null,
   "id": "5531af71-a888-45b2-806a-45857bc116d3",
   "metadata": {},
   "outputs": [
    {
     "data": {
      "text/plain": [
       "4"
      ]
     },
     "execution_count": 39,
     "metadata": {},
     "output_type": "execute_result"
    }
   ],
   "source": [
    "a + 2"
   ]
  },
  {
   "cell_type": "code",
   "execution_count": null,
   "id": "937a331d-347e-4a72-acdc-50f6a49dd9b4",
   "metadata": {},
   "outputs": [
    {
     "name": "stdout",
     "output_type": "stream",
     "text": [
      "4\n"
     ]
    }
   ],
   "source": [
    "print(a + 2)"
   ]
  },
  {
   "cell_type": "code",
   "execution_count": null,
   "id": "fa904ded-353b-40c2-a9ac-fc2f0695e093",
   "metadata": {},
   "outputs": [
    {
     "data": {
      "text/plain": [
       "2"
      ]
     },
     "execution_count": 41,
     "metadata": {},
     "output_type": "execute_result"
    }
   ],
   "source": [
    "a"
   ]
  },
  {
   "cell_type": "code",
   "execution_count": null,
   "id": "fc4b2c70-7568-4d1f-bb14-c3ba1c75c052",
   "metadata": {},
   "outputs": [],
   "source": [
    "a = a + 2"
   ]
  },
  {
   "cell_type": "code",
   "execution_count": null,
   "id": "fee8678e-0298-4074-b6f7-0cbd05c62246",
   "metadata": {},
   "outputs": [
    {
     "data": {
      "text/plain": [
       "4"
      ]
     },
     "execution_count": 43,
     "metadata": {},
     "output_type": "execute_result"
    }
   ],
   "source": [
    "a"
   ]
  },
  {
   "cell_type": "code",
   "execution_count": null,
   "id": "19a325d2-d112-4b0b-8045-a27ac8227713",
   "metadata": {},
   "outputs": [],
   "source": [
    "a = 2"
   ]
  },
  {
   "cell_type": "code",
   "execution_count": null,
   "id": "dfcd0a42-1b60-46f2-a7d9-17b1b721f906",
   "metadata": {},
   "outputs": [
    {
     "data": {
      "text/plain": [
       "2"
      ]
     },
     "execution_count": 45,
     "metadata": {},
     "output_type": "execute_result"
    }
   ],
   "source": [
    "a"
   ]
  },
  {
   "cell_type": "code",
   "execution_count": null,
   "id": "04c1935c-08f7-4898-b373-232d5edda6f4",
   "metadata": {},
   "outputs": [],
   "source": [
    "a += 2"
   ]
  },
  {
   "cell_type": "code",
   "execution_count": null,
   "id": "5f38bacd-e30d-4cb7-a3ca-e7c14e2a8c69",
   "metadata": {},
   "outputs": [
    {
     "data": {
      "text/plain": [
       "4"
      ]
     },
     "execution_count": 47,
     "metadata": {},
     "output_type": "execute_result"
    }
   ],
   "source": [
    "a"
   ]
  },
  {
   "cell_type": "code",
   "execution_count": null,
   "id": "9eaea7ac-102d-422c-9877-593c7c143db1",
   "metadata": {},
   "outputs": [],
   "source": [
    "a -= 2"
   ]
  },
  {
   "cell_type": "code",
   "execution_count": null,
   "id": "b3b39042-0f62-46ed-a6f1-045ff70ab095",
   "metadata": {},
   "outputs": [
    {
     "data": {
      "text/plain": [
       "2"
      ]
     },
     "execution_count": 49,
     "metadata": {},
     "output_type": "execute_result"
    }
   ],
   "source": [
    "a"
   ]
  },
  {
   "cell_type": "code",
   "execution_count": null,
   "id": "59d0a219-f70b-41bf-8b7d-80e97d479c32",
   "metadata": {},
   "outputs": [],
   "source": [
    "a /= 2"
   ]
  },
  {
   "cell_type": "code",
   "execution_count": null,
   "id": "b1456867-76b3-442e-a08f-6d5d82d574d9",
   "metadata": {},
   "outputs": [
    {
     "data": {
      "text/plain": [
       "1.0"
      ]
     },
     "execution_count": 51,
     "metadata": {},
     "output_type": "execute_result"
    }
   ],
   "source": [
    "a"
   ]
  },
  {
   "cell_type": "code",
   "execution_count": null,
   "id": "c84d942a-52f0-423b-b24b-e19f9acc6f75",
   "metadata": {},
   "outputs": [
    {
     "data": {
      "text/plain": [
       "9"
      ]
     },
     "execution_count": 52,
     "metadata": {},
     "output_type": "execute_result"
    }
   ],
   "source": [
    "(1 + 2) * 3"
   ]
  },
  {
   "cell_type": "code",
   "execution_count": null,
   "id": "63ae3b14-06aa-44f9-9eee-6364e969871d",
   "metadata": {},
   "outputs": [
    {
     "data": {
      "text/plain": [
       "7"
      ]
     },
     "execution_count": 53,
     "metadata": {},
     "output_type": "execute_result"
    }
   ],
   "source": [
    "1 + 2 * 3"
   ]
  },
  {
   "cell_type": "code",
   "execution_count": null,
   "id": "ae95e3e7",
   "metadata": {},
   "outputs": [],
   "source": []
  }
 ],
 "metadata": {
  "kernelspec": {
   "display_name": "Python 3 (ipykernel)",
   "language": "python",
   "name": "python3"
  },
  "language_info": {
   "codemirror_mode": {
    "name": "ipython",
    "version": 3
   },
   "file_extension": ".py",
   "mimetype": "text/x-python",
   "name": "python",
   "nbconvert_exporter": "python",
   "pygments_lexer": "ipython3",
   "version": "3.10.13"
  }
 },
 "nbformat": 4,
 "nbformat_minor": 5
}
