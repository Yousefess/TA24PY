{
 "cells": [
  {
   "cell_type": "markdown",
   "metadata": {},
   "source": [
    "## [Practice Exercise](#)\n",
    "\n",
    "To reinforce the concepts we've covered about dictionaries in Python, let's work through an exercise. These will test your understanding of dictionary creation, manipulation, and data retrieval.\n",
    "\n",
    "1. **Create a Dictionary**:\n",
    "   - Instantiate a dictionary `book_genre` that maps book titles to their respective genres. Add at least three key-value pairs to it.\n",
    "   - Example: One pair could be \"To Kill a Mockingbird\": \"Classic Fiction\".\n",
    "\n",
    "2. **Retrieve and Print**:\n",
    "   - Given the `book_genre` dictionary, print the genre of \"To Kill a Mockingbird\". What happens if you try to print the genre of a book not present in your dictionary?\n",
    "\n",
    "3. **Updating Dictionary Values**:\n",
    "   - For the `book_genre` dictionary, update the genre of one of your books to \"Literary Fiction\".\n",
    "   - Add a new book and its genre to the dictionary.\n",
    "\n",
    "4. **Remove Items**:\n",
    "   - From the `book_genre` dictionary, remove a book of your choice using the `pop()` method and display the removed genre.\n",
    "   - Use the `del` statement to remove another book. Try using the `del` statement with a non-existent key and handle the `KeyError` with a try-except block.\n",
    "\n",
    "5. **Iterating Over a Dictionary**:\n",
    "   - Create and print a list of all book titles (keys) in the `book_genre` dictionary.\n",
    "   - Create and print a list of all genres (values) in the `book_genre` dictionary without any duplicates.\n",
    "\n",
    "6. **Dictionary Comprehension**:\n",
    "   - Create a dictionary `squared_numbers` using dictionary comprehension that maps numbers (1-10) to their squares.\n",
    "\n",
    "7. **Nested Dictionaries**:\n",
    "   - Create a nested dictionary `library` where each key is a genre and each value is a dictionary of books of that genre. Add at least two genres, each with at least two books.\n",
    "\n",
    "8. **Clearing a Dictionary**:\n",
    "   - Clear all contents of the `book_genre` dictionary and print its contents to confirm it's empty."
   ]
  },
  {
   "cell_type": "markdown",
   "metadata": {},
   "source": []
  }
 ],
 "metadata": {
  "language_info": {
   "name": "python"
  }
 },
 "nbformat": 4,
 "nbformat_minor": 2
}
