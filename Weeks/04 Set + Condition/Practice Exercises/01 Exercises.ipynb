{
 "cells": [
  {
   "cell_type": "markdown",
   "metadata": {},
   "source": [
    "## <a id='toc6_'></a>[Practice Exercise](#toc0_)\n",
    "By now, you should feel comfortable creating sets, adding or removing items, and performing basic checks for membership.\n",
    "Let's put into practice what we've learned about Python sets. The following exercises are designed to help you reinforce your understanding of set creation, manipulation, and the innate handling of unique items within sets.\n",
    "\n",
    "- **Exercise 1:** Set Creation and Membership\n",
    "Create a set named `colors` that contains the colors 'red', 'green', 'blue', and 'yellow'. Verify if 'purple' is in the `colors` set. Add 'purple' to the set and check again.\n",
    "\n",
    "- **Exercise 2:** Unique Elements\n",
    "Given the list `numbers_list = [1, 2, 3, 4, 3, 2, 1, 5, 6, 5, 4]`, create a set named `unique_numbers` from this list. Determine how many unique numbers are in `numbers_list` by checking the size of `unique_numbers`.\n",
    "\n",
    "- **Exercise 3:** Adding Multiple Elements\n",
    "You have a set `flavors` containing 'chocolate', 'vanilla', and 'strawberry'. Update `flavors` to include 'mint' and 'bubble gum' using a single command.\n",
    "\n",
    "- **Exercise 4:** Removing Elements\n",
    "There is a set `tools` with elements 'hammer', 'wrench', 'screwdriver', and 'pliers'. Remove 'wrench' from `tools` using `.remove()`. Then, using `.discard()`, attempt to remove 'saw' from `tools`.\n",
    "\n",
    "- **Exercise 5:** Safe Element Removal\n",
    "Create a set `planets` including 'earth', 'jupiter', and 'mars'. Safely remove 'venus' from the set `planets` using a method that will not raise an error even if the item does not exist.\n",
    "\n",
    "- **Exercise 6:** Clearing a Set\n",
    "Take the `planets` set and clear all of its elements, ensuring that it is emptied completely."
   ]
  },
  {
   "cell_type": "markdown",
   "metadata": {
    "vscode": {
     "languageId": "plaintext"
    }
   },
   "source": [
    "Now it's time to apply what you've learned about set operations. Here’s an exercise that will help reinforce the differences between set methods and operators:\n",
    "\n",
    "Given the following sets:\n",
    "set_x = {10, 20, 30, 40, 50}\n",
    "set_y = {30, 40, 50, 60, 70}\n",
    "set_z = {5, 15, 25, 35}\n",
    "\n",
    "Perform the following operations:\n",
    "\n",
    "1. Find the union of `set_x` and `set_y` using both the `.union()` method and the `|` operator. Verify that the result is the same.\n",
    "\n",
    "2. Compute the intersection of `set_x`, `set_y`, and `set_z` using the `.intersection()` method. \n",
    "\n",
    "3. Determine the symmetric difference between `set_y` and `set_z` using both the `.symmetric_difference()` method and the `^` operator. Check if the outcomes match.\n",
    "\n",
    "4. Use the difference operator `-` to find elements in `set_x` that are not in `set_y`.\n",
    "\n",
    "5. Attempt to perform an operation that combines all three sets, `set_x`, `set_y`, and `set_z`, into a new set containing elements shared by at least two of the sets. Hint: You may need to use method chaining or additional parentheses with operators to achieve this."
   ]
  }
 ],
 "metadata": {
  "language_info": {
   "name": "python"
  }
 },
 "nbformat": 4,
 "nbformat_minor": 2
}
