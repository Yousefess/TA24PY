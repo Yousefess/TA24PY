{
 "cells": [
  {
   "cell_type": "markdown",
   "metadata": {},
   "source": [
    "## [Exercise: Basic Movie Ticket Pricing](#)\n",
    "You are creating a Python program for a movie theater to determine the ticket price based on the customer's age. The pricing rules are as follows:\n",
    "\n",
    "1. The regular ticket price is $10.\n",
    "2. Children under 14 years old get a 50% discount.\n",
    "3. Seniors aged 65 and above get a 30% discount.\n",
    "\n",
    "Write a Python program that:\n",
    "\n",
    "1. Asks the user for their age.\n",
    "2. Calculates and prints the ticket price according to the above rules.\n",
    "\n",
    "**Instructions:**\n",
    "\n",
    "1. Use the `input()` function to prompt the user for their age.\n",
    "2. Convert the input into an integer using `int()`.\n",
    "3. Determine the ticket price using an `if-elif-else` structure.\n",
    "4. Print out the final ticket price with a message.\n",
    "\n",
    "### [Solution](#)\n",
    "Before looking at the solution, try the exercise yourself! If you get stuck or want to check your work, use the solution below.\n",
    "# Ask for the user's age\n",
    "age = int(input(\"Enter your age: \"))\n",
    "\n",
    "# Regular ticket price\n",
    "ticket_price = 10.00\n",
    "\n",
    "# Check the age and apply discounts if applicable\n",
    "if age < 14:\n",
    "    ticket_price *= 0.5  # Apply 50% discount\n",
    "elif age >= 65:\n",
    "    ticket_price *= 0.7  # Apply 30% discount\n",
    "\n",
    "# Print the final ticket price\n",
    "print(f\"The ticket price is ${ticket_price}\")\n",
    "\n",
    "This solution covers the basic control flow using conditional statements to determine the ticket price based on the user's age. It's a straightforward exercise that helps reinforce the concept of conditional logic in Python."
   ]
  },
  {
   "cell_type": "markdown",
   "metadata": {},
   "source": []
  }
 ],
 "metadata": {
  "language_info": {
   "name": "python"
  }
 },
 "nbformat": 4,
 "nbformat_minor": 2
}
