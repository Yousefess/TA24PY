{
 "cells": [
  {
   "cell_type": "markdown",
   "metadata": {},
   "source": [
    "## [Exercise: Processing and Analyzing Temperature Data](#)"
   ]
  },
  {
   "cell_type": "markdown",
   "metadata": {},
   "source": [
    "In this exercise, you will work with a list of daily average temperatures (in degrees Celsius) collected over a week. Your task is to use `for` loops to process this data and extract some meaningful insights.\n"
   ]
  },
  {
   "cell_type": "code",
   "execution_count": null,
   "metadata": {},
   "outputs": [],
   "source": [
    "# Weekly temperature data in degrees Celsius\n",
    "temperatures = [19, 21, 22, 24, 23, 19, 20]"
   ]
  },
  {
   "cell_type": "markdown",
   "metadata": {},
   "source": [
    "**Tasks:**\n",
    "\n",
    "1. **Calculate the Average Temperature of the Week**:\n",
    "   Write a `for` loop that calculates the average temperature for the week and prints it out.\n",
    "\n",
    "2. **Find the Maximum and Minimum Temperatures**:\n",
    "   Use a `for` loop to determine the highest and lowest temperatures recorded during the week. Print both values.\n",
    "\n",
    "3. **Count Warm Days**:\n",
    "   Define a \"warm day\" as having an average temperature of 22 degrees Celsius or higher. Write a `for` loop that counts the number of warm days in the list and prints the count.\n",
    "\n",
    "4. **Create a New List of Temperature Fluctuations**:\n",
    "   Write a `for` loop to create a new list that contains the temperature fluctuations from one day to the next (the difference between each consecutive pair of temperatures). Print the new list.\n",
    "\n",
    "5. **Bonus: Find the Day with the Largest Fluctuation**:\n",
    "   Using the list of temperature fluctuations you created in task 4, write a `for` loop to find out which day had the largest temperature fluctuation. Note that you don't need to consider the first day since there's no previous day to compare it with. Print the day (as an index) and the fluctuation.\n"
   ]
  },
  {
   "cell_type": "markdown",
   "metadata": {},
   "source": [
    "**Sample Output:**\n",
    "```bash\n",
    "The average temperature for the week is: 21.14°C\n",
    "The maximum temperature of the week is: 24°C\n",
    "The minimum temperature of the week is: 19°C\n",
    "Number of warm days: 3\n",
    "Temperature fluctuations: [2, 1, 2, -1, -4, 1]\n",
    "The largest fluctuation was 4°C and occurred from day 4 to day 5.\n",
    "```\n"
   ]
  },
  {
   "cell_type": "markdown",
   "metadata": {},
   "source": [
    "Remember to comment your code to explain the steps you are taking to solve each task. This will not only help you to keep track of your thought process but also make it easier for others to understand your code. Happy coding!"
   ]
  },
  {
   "cell_type": "markdown",
   "metadata": {},
   "source": [
    "### [Solution](#)"
   ]
  },
  {
   "cell_type": "markdown",
   "metadata": {},
   "source": [
    "Below is a solution for each task in the exercise.\n"
   ]
  },
  {
   "cell_type": "code",
   "execution_count": null,
   "metadata": {},
   "outputs": [],
   "source": [
    "# Weekly temperature data in degrees Celsius\n",
    "temperatures = [19, 21, 22, 24, 23, 19, 20]"
   ]
  },
  {
   "cell_type": "code",
   "execution_count": null,
   "metadata": {},
   "outputs": [
    {
     "name": "stdout",
     "output_type": "stream",
     "text": [
      "The average temperature for the week is: 21.14°C\n"
     ]
    }
   ],
   "source": [
    "# Task 1: Calculate the Average Temperature of the Week\n",
    "total_temp = 0\n",
    "for temp in temperatures:\n",
    "    total_temp += temp\n",
    "average_temp = total_temp / len(temperatures)\n",
    "\n",
    "print(f\"The average temperature for the week is: {average_temp:.2f}°C\")"
   ]
  },
  {
   "cell_type": "code",
   "execution_count": null,
   "metadata": {},
   "outputs": [
    {
     "name": "stdout",
     "output_type": "stream",
     "text": [
      "The maximum temperature of the week is: 24°C\n",
      "The minimum temperature of the week is: 19°C\n"
     ]
    }
   ],
   "source": [
    "# Task 2: Find the Maximum and Minimum Temperatures\n",
    "max_temp = temperatures[0]\n",
    "min_temp = temperatures[0]\n",
    "for temp in temperatures:\n",
    "    if temp > max_temp:\n",
    "        max_temp = temp\n",
    "    elif temp < min_temp:\n",
    "        min_temp = temp\n",
    "\n",
    "print(f\"The maximum temperature of the week is: {max_temp}°C\")\n",
    "print(f\"The minimum temperature of the week is: {min_temp}°C\")"
   ]
  },
  {
   "cell_type": "code",
   "execution_count": null,
   "metadata": {},
   "outputs": [
    {
     "name": "stdout",
     "output_type": "stream",
     "text": [
      "Number of warm days: 3\n"
     ]
    }
   ],
   "source": [
    "# Task 3: Count Warm Days\n",
    "warm_days_count = 0\n",
    "for temp in temperatures:\n",
    "    if temp >= 22:\n",
    "        warm_days_count += 1\n",
    "\n",
    "print(f\"Number of warm days: {warm_days_count}\")"
   ]
  },
  {
   "cell_type": "code",
   "execution_count": null,
   "metadata": {},
   "outputs": [
    {
     "name": "stdout",
     "output_type": "stream",
     "text": [
      "Temperature fluctuations: [2, 1, 2, 1, 4, 1]\n"
     ]
    }
   ],
   "source": [
    "# Task 4: Create a New List of Temperature Fluctuations\n",
    "fluctuations = []\n",
    "for i in range(len(temperatures) - 1):\n",
    "    fluctuation = abs(temperatures[i+1] - temperatures[i])\n",
    "    fluctuations.append(fluctuation)\n",
    "\n",
    "print(f\"Temperature fluctuations: {fluctuations}\")"
   ]
  },
  {
   "cell_type": "code",
   "execution_count": null,
   "metadata": {},
   "outputs": [
    {
     "name": "stdout",
     "output_type": "stream",
     "text": [
      "The largest fluctuation was 4°C and occurred from day 4 to day 5.\n"
     ]
    }
   ],
   "source": [
    "# Task 5: Bonus: Find the Day with the Largest Fluctuation\n",
    "largest_fluctuation = 0\n",
    "day_of_largest_fluctuation = 0\n",
    "for i in range(1, len(fluctuations)):\n",
    "    if fluctuations[i] > largest_fluctuation:\n",
    "        largest_fluctuation = fluctuations[i]\n",
    "        day_of_largest_fluctuation = i + 1  # Adding 1 to convert from index to day\n",
    "\n",
    "print(f\"The largest fluctuation was {largest_fluctuation}°C and occurred from day {day_of_largest_fluctuation - 1} to day {day_of_largest_fluctuation}.\")"
   ]
  },
  {
   "cell_type": "markdown",
   "metadata": {},
   "source": [
    "## <a id='toc5_'></a>[Exercise: Tracking a Savings Goal with While Loops](#toc0_)"
   ]
  },
  {
   "cell_type": "markdown",
   "metadata": {},
   "source": [
    "In this exercise, you will simulate a savings account balance over time to determine how long it takes to reach a financial goal. You will use a `while` loop to model the account balance as it accumulates interest and receives monthly deposits.\n"
   ]
  },
  {
   "cell_type": "markdown",
   "metadata": {},
   "source": [
    "**Scenario:**\n",
    "Imagine you have a savings account with an initial balance and a goal balance you want to achieve. Each month, you deposit a fixed amount into the account, and the account also earns interest annually.\n"
   ]
  },
  {
   "cell_type": "markdown",
   "metadata": {},
   "source": [
    "**Given Data:**"
   ]
  },
  {
   "cell_type": "code",
   "execution_count": null,
   "metadata": {},
   "outputs": [],
   "source": [
    "initial_balance = 1000  # The starting balance in the account.\n",
    "monthly_deposit = 100   # The fixed amount deposited into the account each month.\n",
    "annual_interest_rate = 0.05  # The annual interest rate as a decimal (5% here).\n",
    "savings_goal = 2000     # The target balance you want to reach."
   ]
  },
  {
   "cell_type": "markdown",
   "metadata": {},
   "source": [
    "**Tasks:**\n",
    "\n",
    "1. **Calculate the Number of Months to Reach the Savings Goal**:\n",
    "   Using a `while` loop, calculate how many months it will take for the account balance to reach or exceed the savings goal. Assume that the interest is applied annually (i.e., the balance increases by the annual interest rate once every 12 months). Print the number of months needed.\n",
    "\n",
    "2. **Print the Account Balance at the End of Each Year**:\n",
    "   Modify the `while` loop from Task 1 to print the account balance at the end of each year until the savings goal is reached.\n",
    "\n",
    "3. **Bonus: Adjust for Different Interest Application Frequencies**:\n",
    "   Adjust the `while` loop to apply interest on a different frequency (e.g., monthly, quarterly). The frequency can be a variable that you define. Print the number of months needed to reach the savings goal with this new interest application frequency.\n"
   ]
  },
  {
   "cell_type": "markdown",
   "metadata": {},
   "source": [
    "**Sample Output:**\n",
    "```bash\n",
    "It will take 10 months to reach the savings goal.\n",
    "Account balance at the end of year 1: $1300.00\n",
    "Account balance at the end of year 2: $1630.00\n",
    "(Bonus) Monthly interest applied: It will take 9 months to reach the savings goal.\n",
    "```"
   ]
  },
  {
   "cell_type": "markdown",
   "metadata": {},
   "source": [
    "Remember to include comments in your code to explain the logic behind your `while` loop and any calculations you perform. This practice will not only help you understand your own code better but also assist others in following your reasoning. Good luck, and enjoy your financial modeling exercise."
   ]
  },
  {
   "cell_type": "markdown",
   "metadata": {},
   "source": [
    "### <a id='toc5_1_'></a>[Solution](#toc0_)"
   ]
  },
  {
   "cell_type": "markdown",
   "metadata": {},
   "source": [
    "Below is a solution for the exercise that uses `while` loops to model the savings account balance as it grows over time."
   ]
  },
  {
   "cell_type": "code",
   "execution_count": null,
   "metadata": {},
   "outputs": [],
   "source": [
    "# Given data\n",
    "initial_balance = 1000  # The starting balance in the account.\n",
    "monthly_deposit = 100   # The fixed amount deposited into the account each month.\n",
    "annual_interest_rate = 0.05  # The annual interest rate as a decimal (5% here).\n",
    "savings_goal = 4000     # The target balance you want to reach."
   ]
  },
  {
   "cell_type": "code",
   "execution_count": null,
   "metadata": {},
   "outputs": [
    {
     "name": "stdout",
     "output_type": "stream",
     "text": [
      "It will take 28 months to reach the savings goal.\n"
     ]
    }
   ],
   "source": [
    "# Task 1: Calculate the Number of Months to Reach the Savings Goal\n",
    "balance = initial_balance\n",
    "months = 0\n",
    "\n",
    "while balance < savings_goal:\n",
    "    # Add monthly deposit to balance\n",
    "    balance += monthly_deposit\n",
    "    # Check if a year has passed and apply interest\n",
    "    if months % 12 == 0 and months > 0:\n",
    "        balance += balance * annual_interest_rate\n",
    "    # Increment the month count\n",
    "    months += 1\n",
    "\n",
    "print(f\"It will take {months} months to reach the savings goal.\")\n"
   ]
  },
  {
   "cell_type": "code",
   "execution_count": null,
   "metadata": {},
   "outputs": [
    {
     "name": "stdout",
     "output_type": "stream",
     "text": [
      "Account balance at the end of year 1: $2310.00\n",
      "Account balance at the end of year 2: $3685.50\n"
     ]
    }
   ],
   "source": [
    "# Task 2: Print the Account Balance at the End of Each Year\n",
    "balance = initial_balance\n",
    "months = 0\n",
    "\n",
    "while balance < savings_goal:\n",
    "    # Add monthly deposit to balance\n",
    "    balance += monthly_deposit\n",
    "    # Increment the month count\n",
    "    months += 1\n",
    "    # Check if a year has passed and apply interest\n",
    "    if months % 12 == 0:\n",
    "        balance += balance * annual_interest_rate\n",
    "        print(f\"Account balance at the end of year {months // 12}: ${balance:.2f}\")\n"
   ]
  },
  {
   "cell_type": "code",
   "execution_count": null,
   "metadata": {},
   "outputs": [
    {
     "name": "stdout",
     "output_type": "stream",
     "text": [
      "Interest applied every 12 months: It will take 28 months to reach the savings goal.\n"
     ]
    }
   ],
   "source": [
    "# Bonus: Adjust for Different Interest Application Frequencies\n",
    "balance = initial_balance\n",
    "months = 0\n",
    "interest_frequency = 12  # Monthly interest\n",
    "\n",
    "while balance < savings_goal:\n",
    "    # Add monthly deposit to balance\n",
    "    balance += monthly_deposit\n",
    "    # Apply interest based on the specified frequency\n",
    "    if months % interest_frequency == 0 and months > 0:\n",
    "        balance += balance * (annual_interest_rate / (12 / interest_frequency))\n",
    "    # Increment the month count\n",
    "    months += 1\n",
    "\n",
    "print(f\"Interest applied every {interest_frequency} months: It will take {months} months to reach the savings goal.\")"
   ]
  },
  {
   "cell_type": "markdown",
   "metadata": {},
   "source": [
    "When you run this code, you will see how many months it takes to reach the savings goal under different conditions, including the application of annual interest and adjusted interest frequencies. This exercise demonstrates the practical use of `while` loops in financial modeling scenarios."
   ]
  },
  {
   "cell_type": "markdown",
   "metadata": {},
   "source": [
    "## <a id='toc4_'></a>[Exercise: Controlling Loop Execution with `break`, `continue`, and `pass`](#toc0_)"
   ]
  },
  {
   "cell_type": "markdown",
   "metadata": {},
   "source": [
    "In this exercise, you'll be working with a list of integers to practice using the `break`, `continue`, and `pass` statements within `for` or `while` loops in Python. These control statements alter the flow of a loop: `break` terminates the loop, `continue` skips to the next iteration, and `pass` does nothing and serves as a placeholder.\n"
   ]
  },
  {
   "cell_type": "markdown",
   "metadata": {},
   "source": [
    "**Given Data:**"
   ]
  },
  {
   "cell_type": "code",
   "execution_count": null,
   "metadata": {},
   "outputs": [],
   "source": [
    "numbers = [7, 8, 0, 4, 3, 0, 5, 6, 0, 1]"
   ]
  },
  {
   "cell_type": "markdown",
   "metadata": {},
   "source": [
    "**Tasks:**\n",
    "\n",
    "1. **Find and Print the First Zero**:\n",
    "   Use a `for` loop to iterate through the list and print the first zero you encounter. Use the `break` statement to exit the loop once the zero is found.\n",
    "\n",
    "2. **Print Non-Zero Numbers**:\n",
    "   Write another `for` loop that prints all the numbers in the list except for the zeros. Use the `continue` statement to skip printing zeros.\n",
    "\n",
    "3. **Use `pass` as a Placeholder**:\n",
    "   Suppose you want to iterate over the list and process non-zero numbers in the future, but the processing code isn't ready yet. Use a `for` loop with the `pass` statement as a placeholder for non-zero numbers and print \"Zero found\" for zeros.\n",
    "\n",
    "4. **Bonus: Implement a Retry Mechanism**: (Optional, this may be challenging)\n",
    "   Simulate a simple retry mechanism using a `while` loop. You are trying to connect to a server, and the connection attempts are represented by the list of numbers. A zero means the connection failed, and any non-zero number represents a successful connection. Use a `for` loop inside a `while` loop to iterate through the connection attempts. If a connection is successful (`non-zero`), print \"Connected\" and use the `break` statement to exit both loops. If all connection attempts fail after iterating through the whole list, print \"All connection attempts failed. Retrying...\" and start the connection attempts again. Limit the number of retries to 3 to avoid an infinite loop.\n"
   ]
  },
  {
   "cell_type": "markdown",
   "metadata": {},
   "source": [
    "**Sample Output:**\n",
    "```bash\n",
    "First zero found at index 2\n",
    "8\n",
    "7\n",
    "4\n",
    "3\n",
    "5\n",
    "6\n",
    "1\n",
    "Zero found\n",
    "Zero found\n",
    "Zero found\n",
    "Connected\n",
    "```\n"
   ]
  },
  {
   "cell_type": "markdown",
   "metadata": {},
   "source": [
    "These tasks will help you understand and practice how to control the execution of loops using `break`, `continue`, and `pass`. Remember to include comments in your code to explain the purpose of each control statement you use. Happy coding!"
   ]
  },
  {
   "cell_type": "markdown",
   "metadata": {},
   "source": [
    "### <a id='toc4_1_'></a>[Solution](#toc0_)"
   ]
  },
  {
   "cell_type": "markdown",
   "metadata": {},
   "source": [
    "Here's a solution for each of the tasks in the exercise."
   ]
  },
  {
   "cell_type": "code",
   "execution_count": null,
   "metadata": {},
   "outputs": [],
   "source": [
    "# Given data\n",
    "numbers = [7, 8, 0, 4, 3, 0, 5, 6, 0, 1]"
   ]
  },
  {
   "cell_type": "code",
   "execution_count": null,
   "metadata": {},
   "outputs": [
    {
     "name": "stdout",
     "output_type": "stream",
     "text": [
      "First zero found at index 2\n"
     ]
    }
   ],
   "source": [
    "# Task 1: Find and Print the First Zero\n",
    "for index, number in enumerate(numbers):\n",
    "    if number == 0:\n",
    "        print(f\"First zero found at index {index}\")\n",
    "        break  # Exit the loop after the first zero is found."
   ]
  },
  {
   "cell_type": "code",
   "execution_count": null,
   "metadata": {},
   "outputs": [
    {
     "name": "stdout",
     "output_type": "stream",
     "text": [
      "7\n",
      "8\n",
      "4\n",
      "3\n",
      "5\n",
      "6\n",
      "1\n"
     ]
    }
   ],
   "source": [
    "# Task 2: Print Non-Zero Numbers\n",
    "for number in numbers:\n",
    "    if number == 0:\n",
    "        continue  # Skip the rest of the loop and continue with the next iteration.\n",
    "    print(number)"
   ]
  },
  {
   "cell_type": "code",
   "execution_count": null,
   "metadata": {},
   "outputs": [
    {
     "name": "stdout",
     "output_type": "stream",
     "text": [
      "Zero found\n",
      "Zero found\n",
      "Zero found\n"
     ]
    }
   ],
   "source": [
    "# Task 3: Use `pass` as a Placeholder\n",
    "for number in numbers:\n",
    "    if number == 0:\n",
    "        print(\"Zero found\")\n",
    "    else:\n",
    "        # Placeholder for future code to process non-zero numbers.\n",
    "        pass"
   ]
  },
  {
   "cell_type": "code",
   "execution_count": null,
   "metadata": {},
   "outputs": [
    {
     "name": "stdout",
     "output_type": "stream",
     "text": [
      "Connected\n"
     ]
    }
   ],
   "source": [
    "# Task 4: Bonus: Implement a Retry Mechanism\n",
    "max_retries = 3\n",
    "retries = 0\n",
    "while retries < max_retries:\n",
    "    for number in numbers:\n",
    "        if number != 0:\n",
    "            print(\"Connected\")\n",
    "            break  # Exit the for loop if connected.\n",
    "    else:\n",
    "        # The 'else' block executes if the 'for' loop was not terminated by 'break'.\n",
    "        print(\"All connection attempts failed. Retrying...\")\n",
    "        retries += 1\n",
    "        continue  # Continue with the next iteration of the while loop.\n",
    "    break  # Exit the while loop if connected."
   ]
  },
  {
   "cell_type": "markdown",
   "metadata": {},
   "source": [
    "\n",
    "This code should provide the expected output for each task. The use of `break`, `continue`, and `pass` demonstrates how to control the flow of the loops in different scenarios. The `break` statement is used to exit loops early, `continue` skips to the next iteration, and `pass` acts as a no-operation placeholder. The retry mechanism in Task 4 illustrates how you can use nested loops and control statements to implement more complex logic."
   ]
  },
  {
   "cell_type": "markdown",
   "metadata": {},
   "source": [
    "## <a id='toc5_'></a>[Exercise: Transforming and Filtering Data with Comprehensions](#toc0_)"
   ]
  },
  {
   "cell_type": "markdown",
   "metadata": {},
   "source": [
    "Imagine you have a list of dictionaries representing various products in a store. Each dictionary contains the product name, category, and price. Your task is to use comprehensions to perform the following operations:\n",
    "\n",
    "1. Generate a list of product names that are in the category \"Electronics\".\n",
    "2. Create a dictionary that maps product names to their prices, but only for products that cost more than $50.\n",
    "3. Compute the average price of all the products in the \"Books\" category."
   ]
  },
  {
   "cell_type": "markdown",
   "metadata": {},
   "source": [
    "Here's the list of products you will work with:"
   ]
  },
  {
   "cell_type": "code",
   "execution_count": null,
   "metadata": {},
   "outputs": [],
   "source": [
    "products = [\n",
    "    {\"name\": \"Laptop\", \"category\": \"Electronics\", \"price\": 999.99},\n",
    "    {\"name\": \"Smartphone\", \"category\": \"Electronics\", \"price\": 699.99},\n",
    "    {\"name\": \"Book: The Alchemist\", \"category\": \"Books\", \"price\": 14.99},\n",
    "    {\"name\": \"Book: Harry Potter\", \"category\": \"Books\", \"price\": 29.99},\n",
    "    {\"name\": \"Bluetooth Headphones\", \"category\": \"Electronics\", \"price\": 199.99},\n",
    "    {\"name\": \"Monitor\", \"category\": \"Electronics\", \"price\": 149.99},\n",
    "    {\"name\": \"Book: Python Programming\", \"category\": \"Books\", \"price\": 49.99},\n",
    "    {\"name\": \"Desk Lamp\", \"category\": \"Furniture\", \"price\": 24.99},\n",
    "    {\"name\": \"Mousepad\", \"category\": \"Accessories\", \"price\": 5.99},\n",
    "    {\"name\": \"Stylus Pen\", \"category\": \"Accessories\", \"price\": 12.99},\n",
    "]"
   ]
  },
  {
   "cell_type": "markdown",
   "metadata": {},
   "source": [
    "#### <a id='toc5_1_1_'></a>[Solution](#toc0_)"
   ]
  },
  {
   "cell_type": "code",
   "execution_count": null,
   "metadata": {},
   "outputs": [
    {
     "name": "stdout",
     "output_type": "stream",
     "text": [
      "Electronics Products: ['Laptop', 'Smartphone', 'Bluetooth Headphones', 'Monitor']\n"
     ]
    }
   ],
   "source": [
    "# 1. Generate a list of product names that are in the category \"Electronics\".\n",
    "electronics_names = [product[\"name\"] for product in products if product[\"category\"] == \"Electronics\"]\n",
    "print(\"Electronics Products:\", electronics_names)"
   ]
  },
  {
   "cell_type": "code",
   "execution_count": null,
   "metadata": {},
   "outputs": [
    {
     "name": "stdout",
     "output_type": "stream",
     "text": [
      "Products over $50: {'Laptop': 999.99, 'Smartphone': 699.99, 'Bluetooth Headphones': 199.99, 'Monitor': 149.99}\n"
     ]
    }
   ],
   "source": [
    "# 2. Create a dictionary that maps product names to their prices, but only for products that cost more than $50.\n",
    "products_over_50 = {product[\"name\"]: product[\"price\"] for product in products if product[\"price\"] > 50}\n",
    "print(\"Products over $50:\", products_over_50)"
   ]
  },
  {
   "cell_type": "code",
   "execution_count": null,
   "metadata": {},
   "outputs": [
    {
     "name": "stdout",
     "output_type": "stream",
     "text": [
      "Average Price of Books: 31.656666666666666\n"
     ]
    }
   ],
   "source": [
    "# 3. Compute the average price of all the products in the \"Books\" category.\n",
    "books_prices = [product[\"price\"] for product in products if product[\"category\"] == \"Books\"]\n",
    "average_price_books = sum(books_prices) / len(books_prices) if books_prices else 0\n",
    "print(\"Average Price of Books:\", average_price_books)"
   ]
  },
  {
   "cell_type": "markdown",
   "metadata": {},
   "source": [
    "This exercise provides a practical application of list and dictionary comprehensions, as well as the use of conditionals within them. It also incorporates the use of built-in functions like `sum()` to perform calculations on the resulting list from a comprehension."
   ]
  },
  {
   "cell_type": "markdown",
   "metadata": {},
   "source": [
    "## <a id='toc6_'></a>[Exercise: Mastering Comprehensions in Python](#toc0_)"
   ]
  },
  {
   "cell_type": "markdown",
   "metadata": {},
   "source": [
    "Python comprehensions provide a concise way to create lists, sets, and dictionaries from other iterables. In this exercise, you will practice using list, set, and dictionary comprehensions to transform and filter data efficiently.\n"
   ]
  },
  {
   "cell_type": "markdown",
   "metadata": {},
   "source": [
    "**Given Data:**"
   ]
  },
  {
   "cell_type": "code",
   "execution_count": null,
   "metadata": {},
   "outputs": [],
   "source": [
    "words = [\"apple\", \"banana\", \"cherry\", \"date\", \"elderberry\", \"fig\", \"grape\"]\n",
    "scores = [88, 92, 78, 90, 89, 76, 61]\n"
   ]
  },
  {
   "cell_type": "markdown",
   "metadata": {},
   "source": [
    "**Tasks:**\n",
    "1. **List Comprehension - Select Long Words**:\n",
    "   Use a list comprehension to create a new list that contains only the words with more than 5 characters from the `words` list. Print the new list.\n",
    "\n",
    "2. **Set Comprehension - Unique Word Lengths**:\n",
    "   Use a set comprehension to create a set that contains the lengths of each word in the `words` list. This will give you a set of unique word lengths. Print the resulting set.\n",
    "\n",
    "3. **Dictionary Comprehension - Word to Length Mapping**:\n",
    "   Use a dictionary comprehension to create a dictionary where each word in the `words` list is a key, and its corresponding value is the length of the word. Print the dictionary.\n",
    "\n",
    "4. **List Comprehension with Conditional - Grade Categories**:\n",
    "   Use a list comprehension with a conditional to create a new list of strings that categorize each score in the `scores` list as 'Pass' if the score is 75 or higher and 'Fail' if the score is lower than 75. Print the list of grade categories.\n",
    "\n",
    "5. **Bonus: Nested Comprehensions - Matrix Transposition**:\n",
    "   Given a matrix (a list of lists), use a nested list comprehension to transpose the matrix (swap rows and columns). Print the transposed matrix.\n"
   ]
  },
  {
   "cell_type": "markdown",
   "metadata": {},
   "source": [
    "**Sample Data for Bonus Task:**"
   ]
  },
  {
   "cell_type": "code",
   "execution_count": null,
   "metadata": {},
   "outputs": [],
   "source": [
    "matrix = [\n",
    "    [1, 2, 3],\n",
    "    [4, 5, 6],\n",
    "    [7, 8, 9]\n",
    "]"
   ]
  },
  {
   "cell_type": "markdown",
   "metadata": {},
   "source": [
    "**Expected Output:**\n",
    "```bash\n",
    "Long words: ['banana', 'cherry', 'elderberry']\n",
    "Unique word lengths: {4, 5, 6, 7, 10}\n",
    "Word to length: {'apple': 5, 'banana': 6, 'cherry': 6, 'date': 4, 'elderberry': 10, 'fig': 3, 'grape': 5}\n",
    "Grade categories: ['Pass', 'Pass', 'Pass', 'Pass', 'Pass', 'Pass', 'Fail']\n",
    "Transposed matrix: [[1, 4, 7], [2, 5, 8], [3, 6, 9]]\n",
    "```\n"
   ]
  },
  {
   "cell_type": "markdown",
   "metadata": {},
   "source": [
    "Use this exercise to practice and become comfortable with the syntax and logic behind comprehensions in Python. Remember that comprehensions are not only about writing less code—they often result in highly readable and expressive constructs. Happy coding!"
   ]
  },
  {
   "cell_type": "markdown",
   "metadata": {},
   "source": [
    "### <a id='toc6_1_'></a>[Solution](#toc0_)"
   ]
  },
  {
   "cell_type": "markdown",
   "metadata": {},
   "source": [
    "Here's a solution for each of the tasks in the exercise using list, set, and dictionary comprehensions:"
   ]
  },
  {
   "cell_type": "code",
   "execution_count": null,
   "metadata": {},
   "outputs": [],
   "source": [
    "# Given data\n",
    "words = [\"apple\", \"banana\", \"cherry\", \"date\", \"elderberry\", \"fig\", \"grape\"]\n",
    "scores = [88, 92, 78, 90, 89, 76, 61]"
   ]
  },
  {
   "cell_type": "code",
   "execution_count": null,
   "metadata": {},
   "outputs": [
    {
     "name": "stdout",
     "output_type": "stream",
     "text": [
      "Long words: ['banana', 'cherry', 'elderberry']\n"
     ]
    }
   ],
   "source": [
    "# Task 1: List Comprehension - Select Long Words\n",
    "long_words = [word for word in words if len(word) > 5]\n",
    "print(f\"Long words: {long_words}\")"
   ]
  },
  {
   "cell_type": "code",
   "execution_count": null,
   "metadata": {},
   "outputs": [
    {
     "name": "stdout",
     "output_type": "stream",
     "text": [
      "Unique word lengths: {3, 4, 5, 6, 10}\n"
     ]
    }
   ],
   "source": [
    "# Task 2: Set Comprehension - Unique Word Lengths\n",
    "unique_word_lengths = {len(word) for word in words}\n",
    "print(f\"Unique word lengths: {unique_word_lengths}\")"
   ]
  },
  {
   "cell_type": "code",
   "execution_count": null,
   "metadata": {},
   "outputs": [
    {
     "name": "stdout",
     "output_type": "stream",
     "text": [
      "Word to length: {'apple': 5, 'banana': 6, 'cherry': 6, 'date': 4, 'elderberry': 10, 'fig': 3, 'grape': 5}\n"
     ]
    }
   ],
   "source": [
    "# Task 3: Dictionary Comprehension - Word to Length Mapping\n",
    "word_to_length = {word: len(word) for word in words}\n",
    "print(f\"Word to length: {word_to_length}\")"
   ]
  },
  {
   "cell_type": "code",
   "execution_count": null,
   "metadata": {},
   "outputs": [
    {
     "name": "stdout",
     "output_type": "stream",
     "text": [
      "Grade categories: ['Pass', 'Pass', 'Pass', 'Pass', 'Pass', 'Pass', 'Fail']\n"
     ]
    }
   ],
   "source": [
    "# Task 4: List Comprehension with Conditional - Grade Categories\n",
    "grade_categories = [\"Pass\" if score >= 75 else \"Fail\" for score in scores]\n",
    "print(f\"Grade categories: {grade_categories}\")"
   ]
  },
  {
   "cell_type": "code",
   "execution_count": null,
   "metadata": {},
   "outputs": [
    {
     "name": "stdout",
     "output_type": "stream",
     "text": [
      "Transposed matrix: [[1, 4, 7], [2, 5, 8], [3, 6, 9]]\n"
     ]
    }
   ],
   "source": [
    "# Bonus: Nested Comprehensions - Matrix Transposition\n",
    "matrix = [\n",
    "    [1, 2, 3],\n",
    "    [4, 5, 6],\n",
    "    [7, 8, 9]\n",
    "]\n",
    "\n",
    "transposed_matrix = [[row[i] for row in matrix] for i in range(len(matrix[0]))]\n",
    "print(f\"Transposed matrix: {transposed_matrix}\")"
   ]
  },
  {
   "cell_type": "markdown",
   "metadata": {},
   "source": [
    "Running this code will create and print the new structures using comprehensions as described in the tasks. It demonstrates the power and conciseness of comprehensions in Python for creating new lists, sets, and dictionaries from existing iterables. The bonus task shows how to use nested list comprehensions to transpose a matrix, showcasing the versatility of comprehensions for more complex data manipulations."
   ]
  }
 ],
 "metadata": {
  "language_info": {
   "name": "python"
  }
 },
 "nbformat": 4,
 "nbformat_minor": 2
}
